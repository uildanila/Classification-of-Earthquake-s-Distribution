{
 "cells": [
  {
   "cell_type": "markdown",
   "metadata": {},
   "source": [
    "# **Classification of Earthquakes Distribution on Active Faults in Sulawesi Island Using K-NN**\n",
    "Created by : Nila Wildanul Husna"
   ]
  },
  {
   "cell_type": "markdown",
   "metadata": {},
   "source": [
    "**List of Content**\n",
    "1. Problem Understanding\n",
    "1. Data Preparation\n",
    "1. Modelling\n",
    "1. Conclusion\n",
    "1. Recommendation"
   ]
  },
  {
   "cell_type": "markdown",
   "metadata": {},
   "source": [
    "***\n",
    "# ***Problem Understanding & Data Understanding***"
   ]
  },
  {
   "cell_type": "markdown",
   "metadata": {},
   "source": [
    "**Context**\n",
    "\n",
    "*Sulawesi* merupakan wilayah Indonesia yang rawan terhadap gempa bumi tektonik karena secara geologis terletak pada pertemuan empat lempeng utama dunia yaitu lempeng Eurasia, lempeng Indo-Australia, lempeng Pasifik dan satu lempeng mikro yaitu lempeng Laut Filipina. Sulawesi juga seakan dibagi oleh berbagai patahan atau sesar (fault). Beberapa sesar yang aktif diantaranya Sesar Palu Koro, Sesar Matano, Sesar Saddang, Sesar Walanae, dan Sesar Lawanopo."
   ]
  },
  {
   "cell_type": "markdown",
   "metadata": {},
   "source": [
    "**Problem Statement**\n",
    "\n",
    "Pada tanggal 28 September 2018 gempa bumi dan tsunami terjadi di wilayah Donggala dan Palu dengan magnitudo 7,4 SR menyebabkan peningkatan aktivitas sesar/patahan yang berada di wilayah Sulawesi dan mengakibatkan peningkatan gempa swarm secara signifikan yang terjadi di beberapa lokasi, seperti Mamasa, Pare-Pare, dan lokasi lainnya. Gempa swarm adalah sebuah peristiwa dimana suatu area lokal mengalami sekuens aktivitas gempa yang memiliki magnitudo kecil (M<5) tanpa adanya gempa kuat sebagai gempa utama dengan variasi durasi antara harian, minggu atau bulan. Baru-baru ini gempa bumi yang cukup signifikan terjadi di wilayah Mamuju, Sulawesi Barat dan sekitarnya pada tanggal 14 Januari 2021 pukul 14.35 WITA dengan magnitudo 5,9 SR dan setelah 13 jam kemudian, terjadi gempa bumi susulan yang lebih besar di wilayah Majene (Mw=6.2). Adapun daerah – daerah yang harus mendapat perhatian dan harus diwaspadai adalah daerah perpotongan atau persinggungan di antara sesar, karena di daerah ini gempa dapat bergenerasi dan berpotensi menimbulkan bencana geologi. Sehingga pemerintah ingin memiliki kemampuan untuk bisa mengklasifikasikan kejadian gempa bumi yang berada disekitar wilayah sesar yang terdapat di pulau Sulawesi agar kita bisa melakukan analisis dan peninjauan lebih lanjut terkait wilayah tersebut."
   ]
  },
  {
   "cell_type": "markdown",
   "metadata": {},
   "source": [
    "**Goals**\n",
    "\n",
    "Dengan menggunakan K-Nearest Neighbors, kita  mendapatkan peta sebaran gempa bumi yang diperoleh dari hasil klasifikasi gempa bumi yang ditampilkan sebagai bentuk gambaran informasi dan peringatan dini terhadap wilayah-wilayah yang memiliki tingkat seismisitas yang tinggi berdasarkan magnitude gempa bumi."
   ]
  },
  {
   "cell_type": "markdown",
   "metadata": {},
   "source": [
    "**Analytic Approach**\n",
    "\n",
    "Jadi, yang perlu kita lakukan adalah menganalisis data untuk dapat menemukan wilayah-wilayah sesar yang memiliki histori magnitude dan kedalaman kejadian gempa bumi yang telah terjadi.\n",
    "\n",
    "Selanjutnya, kita akan membangun suatu model klasifikasi yang akan membantu pemerintah untuk dapat menyediakan 'tool' prediksi kejadian gempa bumi berdasarkan wilayah sesar."
   ]
  },
  {
   "cell_type": "markdown",
   "metadata": {},
   "source": [
    "***\n",
    "## ***Data Understanding***"
   ]
  },
  {
   "cell_type": "markdown",
   "metadata": {},
   "source": [
    "Dataset diperoleh dari Stasiun Geofisika BMKG Gowa. Data ini ditampilkan dalam bentuk data informasi yang melibatkan waktu kejadian, lokasi, magnitude, dan kedalaman."
   ]
  },
  {
   "cell_type": "markdown",
   "metadata": {},
   "source": [
    "### Attibute Information\n",
    "\n",
    "| Attribute | Data Type, Length | Description |\n",
    "| --- | --- | --- |\n",
    "| Date | Float | Tenure of customer in ecommerce company |\n",
    "| Mag | Float | Distance in between warehouse to home of customer |\n",
    "| Latitude | Integer | Total number of devices is registered on particular customer |\n",
    "| Longitude | Text | Preferred order category of customer in last month |\n",
    "| Depth | Integer | Satisfactory score of customer on service |\n",
    "| KETERANGAN_LOKASI | Text | Marital status of customer |\n",
    "| Patahan | Integer | Total number of added added on particular customer |"
   ]
  },
  {
   "cell_type": "markdown",
   "metadata": {},
   "source": [
    "***\n",
    "## ***Import Library***"
   ]
  },
  {
   "cell_type": "code",
   "execution_count": 1,
   "metadata": {},
   "outputs": [],
   "source": [
    "# pip install git+https://github.com/giswqs/leafmap.git\n",
    "# pip install keplergl"
   ]
  },
  {
   "cell_type": "code",
   "execution_count": 46,
   "metadata": {},
   "outputs": [
    {
     "data": {
      "text/html": [
       "        <script type=\"text/javascript\">\n",
       "        window.PlotlyConfig = {MathJaxConfig: 'local'};\n",
       "        if (window.MathJax) {MathJax.Hub.Config({SVG: {font: \"STIX-Web\"}});}\n",
       "        if (typeof require !== 'undefined') {\n",
       "        require.undef(\"plotly\");\n",
       "        requirejs.config({\n",
       "            paths: {\n",
       "                'plotly': ['https://cdn.plot.ly/plotly-2.9.0.min']\n",
       "            }\n",
       "        });\n",
       "        require(['plotly'], function(Plotly) {\n",
       "            window._Plotly = Plotly;\n",
       "        });\n",
       "        }\n",
       "        </script>\n",
       "        "
      ]
     },
     "metadata": {},
     "output_type": "display_data"
    }
   ],
   "source": [
    "import numpy as np\n",
    "import pandas as pd\n",
    "\n",
    "# Visualizations\n",
    "import matplotlib.pyplot as plt\n",
    "import seaborn as sns\n",
    "import plotly.express as px\n",
    "import plotly.graph_objects as go\n",
    "import cufflinks as cf\n",
    "cf.go_offline()\n",
    "%matplotlib inline\n",
    "\n",
    "# Model\n",
    "from sklearn.preprocessing import LabelEncoder, MinMaxScaler\n",
    "from sklearn.metrics import classification_report, accuracy_score, confusion_matrix\n",
    "from sklearn.neighbors import KNeighborsClassifier\n",
    "from sklearn.model_selection import KFold, cross_validate, train_test_split\n",
    "from scipy import stats\n",
    "\n",
    "\n",
    "# Map\n",
    "from keplergl import KeplerGl\n",
    "from IPython.display import Javascript\n",
    "import leafmap.kepler as leafmap\n"
   ]
  },
  {
   "cell_type": "markdown",
   "metadata": {},
   "source": [
    "***\n",
    "# **Data Preparation and Cleaning**\n",
    "\n",
    "***"
   ]
  },
  {
   "cell_type": "markdown",
   "metadata": {},
   "source": [
    "#### **Load Dataset**"
   ]
  },
  {
   "cell_type": "code",
   "execution_count": 3,
   "metadata": {},
   "outputs": [
    {
     "data": {
      "text/html": [
       "<div>\n",
       "<style scoped>\n",
       "    .dataframe tbody tr th:only-of-type {\n",
       "        vertical-align: middle;\n",
       "    }\n",
       "\n",
       "    .dataframe tbody tr th {\n",
       "        vertical-align: top;\n",
       "    }\n",
       "\n",
       "    .dataframe thead th {\n",
       "        text-align: right;\n",
       "    }\n",
       "</style>\n",
       "<table border=\"1\" class=\"dataframe\">\n",
       "  <thead>\n",
       "    <tr style=\"text-align: right;\">\n",
       "      <th></th>\n",
       "      <th>Date</th>\n",
       "      <th>Mag</th>\n",
       "      <th>Lattitude</th>\n",
       "      <th>Longitude</th>\n",
       "      <th>Depth</th>\n",
       "      <th>KETERANGAN_LOKASI</th>\n",
       "      <th>Patahan</th>\n",
       "    </tr>\n",
       "  </thead>\n",
       "  <tbody>\n",
       "    <tr>\n",
       "      <th>0</th>\n",
       "      <td>01-01-2015</td>\n",
       "      <td>3.4</td>\n",
       "      <td>-1.99</td>\n",
       "      <td>120.41</td>\n",
       "      <td>17</td>\n",
       "      <td>47 km BaratLaut Mangkutana</td>\n",
       "      <td>Patahan Matano</td>\n",
       "    </tr>\n",
       "    <tr>\n",
       "      <th>1</th>\n",
       "      <td>01-01-2015</td>\n",
       "      <td>3.3</td>\n",
       "      <td>-1.88</td>\n",
       "      <td>120.30</td>\n",
       "      <td>24</td>\n",
       "      <td>60 km Tenggara Kulawi</td>\n",
       "      <td>Patahan Palu Koro</td>\n",
       "    </tr>\n",
       "    <tr>\n",
       "      <th>2</th>\n",
       "      <td>02-01-2015</td>\n",
       "      <td>4.8</td>\n",
       "      <td>-2.22</td>\n",
       "      <td>120.87</td>\n",
       "      <td>17</td>\n",
       "      <td>34 km TimurLaut Mangkutana</td>\n",
       "      <td>Patahan Matano</td>\n",
       "    </tr>\n",
       "    <tr>\n",
       "      <th>3</th>\n",
       "      <td>02-01-2015</td>\n",
       "      <td>4.5</td>\n",
       "      <td>-2.21</td>\n",
       "      <td>120.87</td>\n",
       "      <td>12</td>\n",
       "      <td>35 km TimurLaut Mangkutana</td>\n",
       "      <td>Patahan Matano</td>\n",
       "    </tr>\n",
       "    <tr>\n",
       "      <th>4</th>\n",
       "      <td>02-01-2015</td>\n",
       "      <td>4.1</td>\n",
       "      <td>-2.17</td>\n",
       "      <td>120.77</td>\n",
       "      <td>10</td>\n",
       "      <td>29 km TimurLaut Mangkutana</td>\n",
       "      <td>Patahan Matano</td>\n",
       "    </tr>\n",
       "    <tr>\n",
       "      <th>...</th>\n",
       "      <td>...</td>\n",
       "      <td>...</td>\n",
       "      <td>...</td>\n",
       "      <td>...</td>\n",
       "      <td>...</td>\n",
       "      <td>...</td>\n",
       "      <td>...</td>\n",
       "    </tr>\n",
       "    <tr>\n",
       "      <th>3830</th>\n",
       "      <td>30-12-2019</td>\n",
       "      <td>2.4</td>\n",
       "      <td>-2.86</td>\n",
       "      <td>119.52</td>\n",
       "      <td>11</td>\n",
       "      <td>18 km TimurLaut Pana</td>\n",
       "      <td>Patahan Saddang</td>\n",
       "    </tr>\n",
       "    <tr>\n",
       "      <th>3831</th>\n",
       "      <td>30-12-2019</td>\n",
       "      <td>2.3</td>\n",
       "      <td>-2.85</td>\n",
       "      <td>119.48</td>\n",
       "      <td>10</td>\n",
       "      <td>19 km BaratLaut Pana</td>\n",
       "      <td>Patahan Saddang</td>\n",
       "    </tr>\n",
       "    <tr>\n",
       "      <th>3832</th>\n",
       "      <td>30-12-2019</td>\n",
       "      <td>3.3</td>\n",
       "      <td>-1.50</td>\n",
       "      <td>120.07</td>\n",
       "      <td>10</td>\n",
       "      <td>11 km Tenggara Kulawi</td>\n",
       "      <td>Patahan Palu Koro</td>\n",
       "    </tr>\n",
       "    <tr>\n",
       "      <th>3833</th>\n",
       "      <td>31-12-2019</td>\n",
       "      <td>3.2</td>\n",
       "      <td>-2.37</td>\n",
       "      <td>121.40</td>\n",
       "      <td>10</td>\n",
       "      <td>15 km Tenggara Lembo</td>\n",
       "      <td>Patahan Matano</td>\n",
       "    </tr>\n",
       "    <tr>\n",
       "      <th>3834</th>\n",
       "      <td>31-12-2019</td>\n",
       "      <td>3.2</td>\n",
       "      <td>-2.34</td>\n",
       "      <td>121.19</td>\n",
       "      <td>10</td>\n",
       "      <td>17 km BaratDaya Lembo</td>\n",
       "      <td>Patahan Matano</td>\n",
       "    </tr>\n",
       "  </tbody>\n",
       "</table>\n",
       "<p>3835 rows × 7 columns</p>\n",
       "</div>"
      ],
      "text/plain": [
       "            Date  Mag  Lattitude  Longitude  Depth  \\\n",
       "0     01-01-2015  3.4      -1.99     120.41     17   \n",
       "1     01-01-2015  3.3      -1.88     120.30     24   \n",
       "2     02-01-2015  4.8      -2.22     120.87     17   \n",
       "3     02-01-2015  4.5      -2.21     120.87     12   \n",
       "4     02-01-2015  4.1      -2.17     120.77     10   \n",
       "...          ...  ...        ...        ...    ...   \n",
       "3830  30-12-2019  2.4      -2.86     119.52     11   \n",
       "3831  30-12-2019  2.3      -2.85     119.48     10   \n",
       "3832  30-12-2019  3.3      -1.50     120.07     10   \n",
       "3833  31-12-2019  3.2      -2.37     121.40     10   \n",
       "3834  31-12-2019  3.2      -2.34     121.19     10   \n",
       "\n",
       "               KETERANGAN_LOKASI            Patahan  \n",
       "0     47 km BaratLaut Mangkutana     Patahan Matano  \n",
       "1          60 km Tenggara Kulawi  Patahan Palu Koro  \n",
       "2     34 km TimurLaut Mangkutana     Patahan Matano  \n",
       "3     35 km TimurLaut Mangkutana     Patahan Matano  \n",
       "4     29 km TimurLaut Mangkutana     Patahan Matano  \n",
       "...                          ...                ...  \n",
       "3830        18 km TimurLaut Pana    Patahan Saddang  \n",
       "3831        19 km BaratLaut Pana    Patahan Saddang  \n",
       "3832       11 km Tenggara Kulawi  Patahan Palu Koro  \n",
       "3833        15 km Tenggara Lembo     Patahan Matano  \n",
       "3834       17 km BaratDaya Lembo     Patahan Matano  \n",
       "\n",
       "[3835 rows x 7 columns]"
      ]
     },
     "execution_count": 3,
     "metadata": {},
     "output_type": "execute_result"
    }
   ],
   "source": [
    "df = pd.read_csv('dataset.csv')\n",
    "df_test = pd.read_csv('data_gempa_testing.csv')\n",
    "df_all = pd.read_csv('datagempaALL3.csv')\n",
    "df"
   ]
  },
  {
   "cell_type": "code",
   "execution_count": 4,
   "metadata": {},
   "outputs": [
    {
     "data": {
      "text/html": [
       "<div>\n",
       "<style scoped>\n",
       "    .dataframe tbody tr th:only-of-type {\n",
       "        vertical-align: middle;\n",
       "    }\n",
       "\n",
       "    .dataframe tbody tr th {\n",
       "        vertical-align: top;\n",
       "    }\n",
       "\n",
       "    .dataframe thead th {\n",
       "        text-align: right;\n",
       "    }\n",
       "</style>\n",
       "<table border=\"1\" class=\"dataframe\">\n",
       "  <thead>\n",
       "    <tr style=\"text-align: right;\">\n",
       "      <th></th>\n",
       "      <th>Event_ID</th>\n",
       "      <th>Lattitude</th>\n",
       "      <th>Longitude</th>\n",
       "      <th>Depth</th>\n",
       "      <th>Mag</th>\n",
       "      <th>KETERANGAN_LOKASI</th>\n",
       "      <th>Kategori_Magnitude</th>\n",
       "    </tr>\n",
       "  </thead>\n",
       "  <tbody>\n",
       "    <tr>\n",
       "      <th>0</th>\n",
       "      <td>01-01-2015 13:13</td>\n",
       "      <td>-1.99</td>\n",
       "      <td>120.41</td>\n",
       "      <td>17</td>\n",
       "      <td>3.4</td>\n",
       "      <td>47 km BaratLaut Mangkutana</td>\n",
       "      <td>2</td>\n",
       "    </tr>\n",
       "    <tr>\n",
       "      <th>1</th>\n",
       "      <td>01-01-2015 12:33</td>\n",
       "      <td>-1.88</td>\n",
       "      <td>120.30</td>\n",
       "      <td>24</td>\n",
       "      <td>3.3</td>\n",
       "      <td>60 km Tenggara Kulawi</td>\n",
       "      <td>2</td>\n",
       "    </tr>\n",
       "    <tr>\n",
       "      <th>2</th>\n",
       "      <td>02-01-2015 06:20</td>\n",
       "      <td>-2.22</td>\n",
       "      <td>120.87</td>\n",
       "      <td>17</td>\n",
       "      <td>4.8</td>\n",
       "      <td>34 km TimurLaut Mangkutana</td>\n",
       "      <td>2</td>\n",
       "    </tr>\n",
       "    <tr>\n",
       "      <th>3</th>\n",
       "      <td>02-01-2015 02:34</td>\n",
       "      <td>-2.21</td>\n",
       "      <td>120.87</td>\n",
       "      <td>12</td>\n",
       "      <td>4.5</td>\n",
       "      <td>35 km TimurLaut Mangkutana</td>\n",
       "      <td>2</td>\n",
       "    </tr>\n",
       "    <tr>\n",
       "      <th>4</th>\n",
       "      <td>02-01-2015 01:11</td>\n",
       "      <td>-2.17</td>\n",
       "      <td>120.77</td>\n",
       "      <td>10</td>\n",
       "      <td>4.1</td>\n",
       "      <td>29 km TimurLaut Mangkutana</td>\n",
       "      <td>2</td>\n",
       "    </tr>\n",
       "    <tr>\n",
       "      <th>...</th>\n",
       "      <td>...</td>\n",
       "      <td>...</td>\n",
       "      <td>...</td>\n",
       "      <td>...</td>\n",
       "      <td>...</td>\n",
       "      <td>...</td>\n",
       "      <td>...</td>\n",
       "    </tr>\n",
       "    <tr>\n",
       "      <th>4651</th>\n",
       "      <td>29-12-2020 11:34</td>\n",
       "      <td>-2.51</td>\n",
       "      <td>120.71</td>\n",
       "      <td>10</td>\n",
       "      <td>3.0</td>\n",
       "      <td>20 km Tenggara Mangkutana</td>\n",
       "      <td>1</td>\n",
       "    </tr>\n",
       "    <tr>\n",
       "      <th>4652</th>\n",
       "      <td>30-12-2020 03:34</td>\n",
       "      <td>-2.17</td>\n",
       "      <td>121.20</td>\n",
       "      <td>10</td>\n",
       "      <td>2.5</td>\n",
       "      <td>17 km BaratLaut Lembo</td>\n",
       "      <td>1</td>\n",
       "    </tr>\n",
       "    <tr>\n",
       "      <th>4653</th>\n",
       "      <td>30-12-2020 03:14</td>\n",
       "      <td>-1.37</td>\n",
       "      <td>120.47</td>\n",
       "      <td>10</td>\n",
       "      <td>3.3</td>\n",
       "      <td>55 km TimurLaut Kulawi</td>\n",
       "      <td>2</td>\n",
       "    </tr>\n",
       "    <tr>\n",
       "      <th>4654</th>\n",
       "      <td>30-12-2020 04:48</td>\n",
       "      <td>-1.36</td>\n",
       "      <td>119.64</td>\n",
       "      <td>10</td>\n",
       "      <td>2.9</td>\n",
       "      <td>36 km BaratDaya Sigi</td>\n",
       "      <td>1</td>\n",
       "    </tr>\n",
       "    <tr>\n",
       "      <th>4655</th>\n",
       "      <td>31-12-2020 11:17</td>\n",
       "      <td>-1.23</td>\n",
       "      <td>120.96</td>\n",
       "      <td>10</td>\n",
       "      <td>3.1</td>\n",
       "      <td>111 km TimurLaut Kulawi</td>\n",
       "      <td>2</td>\n",
       "    </tr>\n",
       "  </tbody>\n",
       "</table>\n",
       "<p>4656 rows × 7 columns</p>\n",
       "</div>"
      ],
      "text/plain": [
       "              Event_ID  Lattitude  Longitude  Depth  Mag  \\\n",
       "0     01-01-2015 13:13      -1.99     120.41     17  3.4   \n",
       "1     01-01-2015 12:33      -1.88     120.30     24  3.3   \n",
       "2     02-01-2015 06:20      -2.22     120.87     17  4.8   \n",
       "3     02-01-2015 02:34      -2.21     120.87     12  4.5   \n",
       "4     02-01-2015 01:11      -2.17     120.77     10  4.1   \n",
       "...                ...        ...        ...    ...  ...   \n",
       "4651  29-12-2020 11:34      -2.51     120.71     10  3.0   \n",
       "4652  30-12-2020 03:34      -2.17     121.20     10  2.5   \n",
       "4653  30-12-2020 03:14      -1.37     120.47     10  3.3   \n",
       "4654  30-12-2020 04:48      -1.36     119.64     10  2.9   \n",
       "4655  31-12-2020 11:17      -1.23     120.96     10  3.1   \n",
       "\n",
       "               KETERANGAN_LOKASI  Kategori_Magnitude  \n",
       "0     47 km BaratLaut Mangkutana                   2  \n",
       "1          60 km Tenggara Kulawi                   2  \n",
       "2     34 km TimurLaut Mangkutana                   2  \n",
       "3     35 km TimurLaut Mangkutana                   2  \n",
       "4     29 km TimurLaut Mangkutana                   2  \n",
       "...                          ...                 ...  \n",
       "4651   20 km Tenggara Mangkutana                   1  \n",
       "4652       17 km BaratLaut Lembo                   1  \n",
       "4653      55 km TimurLaut Kulawi                   2  \n",
       "4654        36 km BaratDaya Sigi                   1  \n",
       "4655     111 km TimurLaut Kulawi                   2  \n",
       "\n",
       "[4656 rows x 7 columns]"
      ]
     },
     "execution_count": 4,
     "metadata": {},
     "output_type": "execute_result"
    }
   ],
   "source": [
    "df_all"
   ]
  },
  {
   "cell_type": "code",
   "execution_count": 5,
   "metadata": {},
   "outputs": [
    {
     "name": "stdout",
     "output_type": "stream",
     "text": [
      "<class 'pandas.core.frame.DataFrame'>\n",
      "RangeIndex: 3835 entries, 0 to 3834\n",
      "Data columns (total 7 columns):\n",
      " #   Column             Non-Null Count  Dtype  \n",
      "---  ------             --------------  -----  \n",
      " 0   Date               3835 non-null   object \n",
      " 1   Mag                3835 non-null   float64\n",
      " 2   Lattitude          3835 non-null   float64\n",
      " 3   Longitude          3835 non-null   float64\n",
      " 4   Depth              3835 non-null   int64  \n",
      " 5   KETERANGAN_LOKASI  3835 non-null   object \n",
      " 6   Patahan            3835 non-null   object \n",
      "dtypes: float64(3), int64(1), object(3)\n",
      "memory usage: 209.9+ KB\n"
     ]
    }
   ],
   "source": [
    "df.info()"
   ]
  },
  {
   "cell_type": "code",
   "execution_count": 6,
   "metadata": {},
   "outputs": [
    {
     "data": {
      "text/html": [
       "<div>\n",
       "<style scoped>\n",
       "    .dataframe tbody tr th:only-of-type {\n",
       "        vertical-align: middle;\n",
       "    }\n",
       "\n",
       "    .dataframe tbody tr th {\n",
       "        vertical-align: top;\n",
       "    }\n",
       "\n",
       "    .dataframe thead th {\n",
       "        text-align: right;\n",
       "    }\n",
       "</style>\n",
       "<table border=\"1\" class=\"dataframe\">\n",
       "  <thead>\n",
       "    <tr style=\"text-align: right;\">\n",
       "      <th></th>\n",
       "      <th>Date</th>\n",
       "      <th>Mag</th>\n",
       "      <th>Lattitude</th>\n",
       "      <th>Longitude</th>\n",
       "      <th>Depth</th>\n",
       "      <th>KETERANGAN_LOKASI</th>\n",
       "      <th>Patahan</th>\n",
       "    </tr>\n",
       "  </thead>\n",
       "  <tbody>\n",
       "    <tr>\n",
       "      <th>1897</th>\n",
       "      <td>07-11-2018</td>\n",
       "      <td>2.5</td>\n",
       "      <td>-2.86</td>\n",
       "      <td>119.47</td>\n",
       "      <td>10</td>\n",
       "      <td>18 km BaratLaut Pana</td>\n",
       "      <td>Patahan Saddang</td>\n",
       "    </tr>\n",
       "    <tr>\n",
       "      <th>2380</th>\n",
       "      <td>22-11-2018</td>\n",
       "      <td>3.1</td>\n",
       "      <td>-2.94</td>\n",
       "      <td>119.51</td>\n",
       "      <td>10</td>\n",
       "      <td>9 km BaratLaut Pana</td>\n",
       "      <td>Patahan Saddang</td>\n",
       "    </tr>\n",
       "    <tr>\n",
       "      <th>2859</th>\n",
       "      <td>31-01-2019</td>\n",
       "      <td>2.1</td>\n",
       "      <td>-3.12</td>\n",
       "      <td>119.40</td>\n",
       "      <td>10</td>\n",
       "      <td>13 km TimurLaut Sumarorong</td>\n",
       "      <td>Patahan Saddang</td>\n",
       "    </tr>\n",
       "  </tbody>\n",
       "</table>\n",
       "</div>"
      ],
      "text/plain": [
       "            Date  Mag  Lattitude  Longitude  Depth  \\\n",
       "1897  07-11-2018  2.5      -2.86     119.47     10   \n",
       "2380  22-11-2018  3.1      -2.94     119.51     10   \n",
       "2859  31-01-2019  2.1      -3.12     119.40     10   \n",
       "\n",
       "               KETERANGAN_LOKASI          Patahan  \n",
       "1897        18 km BaratLaut Pana  Patahan Saddang  \n",
       "2380         9 km BaratLaut Pana  Patahan Saddang  \n",
       "2859  13 km TimurLaut Sumarorong  Patahan Saddang  "
      ]
     },
     "execution_count": 6,
     "metadata": {},
     "output_type": "execute_result"
    }
   ],
   "source": [
    "# Checking for duplicate data\n",
    "\n",
    "df[df.duplicated()]"
   ]
  },
  {
   "cell_type": "code",
   "execution_count": 7,
   "metadata": {},
   "outputs": [],
   "source": [
    "# Drop Duplicated Data\n",
    "\n",
    "df.drop_duplicates(inplace=True)"
   ]
  },
  {
   "cell_type": "code",
   "execution_count": 8,
   "metadata": {},
   "outputs": [
    {
     "data": {
      "text/html": [
       "<div>\n",
       "<style scoped>\n",
       "    .dataframe tbody tr th:only-of-type {\n",
       "        vertical-align: middle;\n",
       "    }\n",
       "\n",
       "    .dataframe tbody tr th {\n",
       "        vertical-align: top;\n",
       "    }\n",
       "\n",
       "    .dataframe thead th {\n",
       "        text-align: right;\n",
       "    }\n",
       "</style>\n",
       "<table border=\"1\" class=\"dataframe\">\n",
       "  <thead>\n",
       "    <tr style=\"text-align: right;\">\n",
       "      <th></th>\n",
       "      <th>Date</th>\n",
       "      <th>Mag</th>\n",
       "      <th>Lattitude</th>\n",
       "      <th>Longitude</th>\n",
       "      <th>Depth</th>\n",
       "      <th>KETERANGAN_LOKASI</th>\n",
       "      <th>Patahan</th>\n",
       "    </tr>\n",
       "  </thead>\n",
       "  <tbody>\n",
       "    <tr>\n",
       "      <th>0</th>\n",
       "      <td>01-01-2015</td>\n",
       "      <td>3.4</td>\n",
       "      <td>-1.99</td>\n",
       "      <td>120.41</td>\n",
       "      <td>17</td>\n",
       "      <td>47 km BaratLaut Mangkutana</td>\n",
       "      <td>Patahan Matano</td>\n",
       "    </tr>\n",
       "    <tr>\n",
       "      <th>1</th>\n",
       "      <td>01-01-2015</td>\n",
       "      <td>3.3</td>\n",
       "      <td>-1.88</td>\n",
       "      <td>120.30</td>\n",
       "      <td>24</td>\n",
       "      <td>60 km Tenggara Kulawi</td>\n",
       "      <td>Patahan Palu Koro</td>\n",
       "    </tr>\n",
       "    <tr>\n",
       "      <th>2</th>\n",
       "      <td>02-01-2015</td>\n",
       "      <td>4.8</td>\n",
       "      <td>-2.22</td>\n",
       "      <td>120.87</td>\n",
       "      <td>17</td>\n",
       "      <td>34 km TimurLaut Mangkutana</td>\n",
       "      <td>Patahan Matano</td>\n",
       "    </tr>\n",
       "    <tr>\n",
       "      <th>3</th>\n",
       "      <td>02-01-2015</td>\n",
       "      <td>4.5</td>\n",
       "      <td>-2.21</td>\n",
       "      <td>120.87</td>\n",
       "      <td>12</td>\n",
       "      <td>35 km TimurLaut Mangkutana</td>\n",
       "      <td>Patahan Matano</td>\n",
       "    </tr>\n",
       "    <tr>\n",
       "      <th>4</th>\n",
       "      <td>02-01-2015</td>\n",
       "      <td>4.1</td>\n",
       "      <td>-2.17</td>\n",
       "      <td>120.77</td>\n",
       "      <td>10</td>\n",
       "      <td>29 km TimurLaut Mangkutana</td>\n",
       "      <td>Patahan Matano</td>\n",
       "    </tr>\n",
       "    <tr>\n",
       "      <th>...</th>\n",
       "      <td>...</td>\n",
       "      <td>...</td>\n",
       "      <td>...</td>\n",
       "      <td>...</td>\n",
       "      <td>...</td>\n",
       "      <td>...</td>\n",
       "      <td>...</td>\n",
       "    </tr>\n",
       "    <tr>\n",
       "      <th>3830</th>\n",
       "      <td>30-12-2019</td>\n",
       "      <td>2.4</td>\n",
       "      <td>-2.86</td>\n",
       "      <td>119.52</td>\n",
       "      <td>11</td>\n",
       "      <td>18 km TimurLaut Pana</td>\n",
       "      <td>Patahan Saddang</td>\n",
       "    </tr>\n",
       "    <tr>\n",
       "      <th>3831</th>\n",
       "      <td>30-12-2019</td>\n",
       "      <td>2.3</td>\n",
       "      <td>-2.85</td>\n",
       "      <td>119.48</td>\n",
       "      <td>10</td>\n",
       "      <td>19 km BaratLaut Pana</td>\n",
       "      <td>Patahan Saddang</td>\n",
       "    </tr>\n",
       "    <tr>\n",
       "      <th>3832</th>\n",
       "      <td>30-12-2019</td>\n",
       "      <td>3.3</td>\n",
       "      <td>-1.50</td>\n",
       "      <td>120.07</td>\n",
       "      <td>10</td>\n",
       "      <td>11 km Tenggara Kulawi</td>\n",
       "      <td>Patahan Palu Koro</td>\n",
       "    </tr>\n",
       "    <tr>\n",
       "      <th>3833</th>\n",
       "      <td>31-12-2019</td>\n",
       "      <td>3.2</td>\n",
       "      <td>-2.37</td>\n",
       "      <td>121.40</td>\n",
       "      <td>10</td>\n",
       "      <td>15 km Tenggara Lembo</td>\n",
       "      <td>Patahan Matano</td>\n",
       "    </tr>\n",
       "    <tr>\n",
       "      <th>3834</th>\n",
       "      <td>31-12-2019</td>\n",
       "      <td>3.2</td>\n",
       "      <td>-2.34</td>\n",
       "      <td>121.19</td>\n",
       "      <td>10</td>\n",
       "      <td>17 km BaratDaya Lembo</td>\n",
       "      <td>Patahan Matano</td>\n",
       "    </tr>\n",
       "  </tbody>\n",
       "</table>\n",
       "<p>3832 rows × 7 columns</p>\n",
       "</div>"
      ],
      "text/plain": [
       "            Date  Mag  Lattitude  Longitude  Depth  \\\n",
       "0     01-01-2015  3.4      -1.99     120.41     17   \n",
       "1     01-01-2015  3.3      -1.88     120.30     24   \n",
       "2     02-01-2015  4.8      -2.22     120.87     17   \n",
       "3     02-01-2015  4.5      -2.21     120.87     12   \n",
       "4     02-01-2015  4.1      -2.17     120.77     10   \n",
       "...          ...  ...        ...        ...    ...   \n",
       "3830  30-12-2019  2.4      -2.86     119.52     11   \n",
       "3831  30-12-2019  2.3      -2.85     119.48     10   \n",
       "3832  30-12-2019  3.3      -1.50     120.07     10   \n",
       "3833  31-12-2019  3.2      -2.37     121.40     10   \n",
       "3834  31-12-2019  3.2      -2.34     121.19     10   \n",
       "\n",
       "               KETERANGAN_LOKASI            Patahan  \n",
       "0     47 km BaratLaut Mangkutana     Patahan Matano  \n",
       "1          60 km Tenggara Kulawi  Patahan Palu Koro  \n",
       "2     34 km TimurLaut Mangkutana     Patahan Matano  \n",
       "3     35 km TimurLaut Mangkutana     Patahan Matano  \n",
       "4     29 km TimurLaut Mangkutana     Patahan Matano  \n",
       "...                          ...                ...  \n",
       "3830        18 km TimurLaut Pana    Patahan Saddang  \n",
       "3831        19 km BaratLaut Pana    Patahan Saddang  \n",
       "3832       11 km Tenggara Kulawi  Patahan Palu Koro  \n",
       "3833        15 km Tenggara Lembo     Patahan Matano  \n",
       "3834       17 km BaratDaya Lembo     Patahan Matano  \n",
       "\n",
       "[3832 rows x 7 columns]"
      ]
     },
     "execution_count": 8,
     "metadata": {},
     "output_type": "execute_result"
    }
   ],
   "source": [
    "df"
   ]
  },
  {
   "cell_type": "markdown",
   "metadata": {},
   "source": [
    "#### **Data Information**"
   ]
  },
  {
   "cell_type": "code",
   "execution_count": 9,
   "metadata": {},
   "outputs": [
    {
     "data": {
      "text/html": [
       "<div>\n",
       "<style scoped>\n",
       "    .dataframe tbody tr th:only-of-type {\n",
       "        vertical-align: middle;\n",
       "    }\n",
       "\n",
       "    .dataframe tbody tr th {\n",
       "        vertical-align: top;\n",
       "    }\n",
       "\n",
       "    .dataframe thead th {\n",
       "        text-align: right;\n",
       "    }\n",
       "</style>\n",
       "<table border=\"1\" class=\"dataframe\">\n",
       "  <thead>\n",
       "    <tr style=\"text-align: right;\">\n",
       "      <th></th>\n",
       "      <th>dataFeatures</th>\n",
       "      <th>dataType</th>\n",
       "      <th>missingValue</th>\n",
       "      <th>missingValue_Pct</th>\n",
       "      <th>uniqueValue</th>\n",
       "    </tr>\n",
       "  </thead>\n",
       "  <tbody>\n",
       "    <tr>\n",
       "      <th>0</th>\n",
       "      <td>Date</td>\n",
       "      <td>object</td>\n",
       "      <td>0</td>\n",
       "      <td>0.0</td>\n",
       "      <td>991</td>\n",
       "    </tr>\n",
       "    <tr>\n",
       "      <th>1</th>\n",
       "      <td>Mag</td>\n",
       "      <td>float64</td>\n",
       "      <td>0</td>\n",
       "      <td>0.0</td>\n",
       "      <td>50</td>\n",
       "    </tr>\n",
       "    <tr>\n",
       "      <th>2</th>\n",
       "      <td>Lattitude</td>\n",
       "      <td>float64</td>\n",
       "      <td>0</td>\n",
       "      <td>0.0</td>\n",
       "      <td>511</td>\n",
       "    </tr>\n",
       "    <tr>\n",
       "      <th>3</th>\n",
       "      <td>Longitude</td>\n",
       "      <td>float64</td>\n",
       "      <td>0</td>\n",
       "      <td>0.0</td>\n",
       "      <td>460</td>\n",
       "    </tr>\n",
       "    <tr>\n",
       "      <th>4</th>\n",
       "      <td>Depth</td>\n",
       "      <td>int64</td>\n",
       "      <td>0</td>\n",
       "      <td>0.0</td>\n",
       "      <td>173</td>\n",
       "    </tr>\n",
       "    <tr>\n",
       "      <th>5</th>\n",
       "      <td>KETERANGAN_LOKASI</td>\n",
       "      <td>object</td>\n",
       "      <td>0</td>\n",
       "      <td>0.0</td>\n",
       "      <td>1748</td>\n",
       "    </tr>\n",
       "    <tr>\n",
       "      <th>6</th>\n",
       "      <td>Patahan</td>\n",
       "      <td>object</td>\n",
       "      <td>0</td>\n",
       "      <td>0.0</td>\n",
       "      <td>5</td>\n",
       "    </tr>\n",
       "  </tbody>\n",
       "</table>\n",
       "</div>"
      ],
      "text/plain": [
       "        dataFeatures dataType  missingValue  missingValue_Pct  uniqueValue\n",
       "0               Date   object             0               0.0          991\n",
       "1                Mag  float64             0               0.0           50\n",
       "2          Lattitude  float64             0               0.0          511\n",
       "3          Longitude  float64             0               0.0          460\n",
       "4              Depth    int64             0               0.0          173\n",
       "5  KETERANGAN_LOKASI   object             0               0.0         1748\n",
       "6            Patahan   object             0               0.0            5"
      ]
     },
     "execution_count": 9,
     "metadata": {},
     "output_type": "execute_result"
    }
   ],
   "source": [
    "listItem = []\n",
    "for col in df.columns :\n",
    "    listItem.append([col, df[col].dtype, df[col].isna().sum(), round((df[col].isna().sum()/len(df[col])) * 100,2),\n",
    "                    df[col].nunique()]);\n",
    "\n",
    "dfDesc = pd.DataFrame(columns=['dataFeatures', 'dataType', 'missingValue', 'missingValue_Pct', 'uniqueValue'],\n",
    "                     data=listItem)\n",
    "dfDesc"
   ]
  },
  {
   "cell_type": "markdown",
   "metadata": {},
   "source": [
    "Jika diperhatikan, tidak terdapat missing value pada dataset yang akan digunakan."
   ]
  },
  {
   "cell_type": "code",
   "execution_count": 10,
   "metadata": {},
   "outputs": [],
   "source": [
    "# Change Data Type\n",
    "df[\"Date\"]  = df[\"Date\"].astype(\"datetime64\")\n"
   ]
  },
  {
   "cell_type": "code",
   "execution_count": 11,
   "metadata": {},
   "outputs": [
    {
     "name": "stdout",
     "output_type": "stream",
     "text": [
      "<class 'pandas.core.frame.DataFrame'>\n",
      "Int64Index: 3832 entries, 0 to 3834\n",
      "Data columns (total 7 columns):\n",
      " #   Column             Non-Null Count  Dtype         \n",
      "---  ------             --------------  -----         \n",
      " 0   Date               3832 non-null   datetime64[ns]\n",
      " 1   Mag                3832 non-null   float64       \n",
      " 2   Lattitude          3832 non-null   float64       \n",
      " 3   Longitude          3832 non-null   float64       \n",
      " 4   Depth              3832 non-null   int64         \n",
      " 5   KETERANGAN_LOKASI  3832 non-null   object        \n",
      " 6   Patahan            3832 non-null   object        \n",
      "dtypes: datetime64[ns](1), float64(3), int64(1), object(2)\n",
      "memory usage: 239.5+ KB\n"
     ]
    }
   ],
   "source": [
    "df.info()"
   ]
  },
  {
   "cell_type": "markdown",
   "metadata": {},
   "source": [
    "***\n",
    "# **Exploratory Data Analysis (EDA)**\n",
    "\n",
    "***"
   ]
  },
  {
   "cell_type": "code",
   "execution_count": 12,
   "metadata": {},
   "outputs": [],
   "source": [
    "def stackbar_h(data, x, y, hover_data, color, labels, width, height, title, xaxis, yaxis):\n",
    "    fig = px.bar(data, y=y, x=x,\n",
    "             hover_data=hover_data, color=color,\n",
    "             labels=labels, width=width, height=height, orientation='h')\n",
    "    fig.update_layout(\n",
    "            autosize=False,\n",
    "            title=title,\n",
    "                        xaxis_title=xaxis,\n",
    "                        yaxis_title=yaxis,\n",
    "            yaxis={'categoryorder':'total ascending'})\n",
    "    return fig.show()"
   ]
  },
  {
   "cell_type": "code",
   "execution_count": 13,
   "metadata": {},
   "outputs": [
    {
     "name": "stdout",
     "output_type": "stream",
     "text": [
      "There are 4 numerical features:\n",
      "['Mag', 'Lattitude', 'Longitude', 'Depth']\n",
      "\n",
      "Continous Variables:\n",
      "['Mag', 'Lattitude', 'Longitude', 'Depth']\n",
      "\n",
      "Discrete Variables:\n",
      "['Date']\n"
     ]
    }
   ],
   "source": [
    "# Identifying numerical variables\n",
    "num_vars = [var for var in df.columns if df[var].dtype != 'O' and var !='Churn' and df[var].dtype != '<M8[ns]']\n",
    "cont_vars = [var for var in num_vars if df[var].nunique() > 14]\n",
    "date_vars = [var for var in df.columns if df[var].dtype == '<M8[ns]']\n",
    "\n",
    "print(f'There are {len(num_vars)} numerical features:\\n{num_vars}')\n",
    "\n",
    "print(f'\\nContinous Variables:\\n{cont_vars}')\n",
    "print(f'\\nDiscrete Variables:\\n{date_vars}')"
   ]
  },
  {
   "cell_type": "code",
   "execution_count": 14,
   "metadata": {},
   "outputs": [
    {
     "data": {
      "image/png": "[encoded data removed]",
      "text/plain": [
       "<Figure size 1080x864 with 4 Axes>"
      ]
     },
     "metadata": {},
     "output_type": "display_data"
    }
   ],
   "source": [
    "plt.style.use('seaborn')\n",
    "df[num_vars].hist(figsize = (15,12), color='#89C4F4')\n",
    "plt.show()"
   ]
  },
  {
   "cell_type": "markdown",
   "metadata": {},
   "source": [
    "## **Magnitude of Earthquakes**"
   ]
  },
  {
   "cell_type": "markdown",
   "metadata": {},
   "source": [
    "Jenis Gempa Berdasarkan Kekuatan\n",
    "* Gempa kuat M ≥ 5.0\n",
    "* Gempa sedang 3.0 < M < 5.0\n",
    "* Gempa kecil M ≤ 3.0\n",
    "\n",
    "Jenis Gempa Berdasarkan Kedalaman Hiposenter\n",
    "* Gempa dangkal (shallow), dengan kedalaman kurang dari 70 km.\n",
    "* Gempa menengah (intermediate), dengan kedalaman lebih besar dari 70 km dan kurang dari 300 km.\n",
    "* Gempa dalam (deep), dengan kedalaman lebih dari 300 km."
   ]
  },
  {
   "cell_type": "code",
   "execution_count": 15,
   "metadata": {},
   "outputs": [],
   "source": [
    "def magnitude(x):\n",
    "    if x >= 5.0:\n",
    "        result = 'Gempa Kuat'\n",
    "    elif x < 5.0  and x > 3.0:\n",
    "        result = 'Gempa Sedang'\n",
    "    else:\n",
    "        result = 'Gempa Kecil'\n",
    "    return result\n",
    "\n",
    "def depth(x):\n",
    "    if x >= 300:\n",
    "        result = 'Gempa Dalam'\n",
    "    elif x < 300  and x > 70:\n",
    "        result = 'Gempa Menengah'\n",
    "    else:\n",
    "        result = 'Gempa Dangkal'\n",
    "    return result"
   ]
  },
  {
   "cell_type": "code",
   "execution_count": 16,
   "metadata": {},
   "outputs": [],
   "source": [
    "df['Jenis Gempa'] = [magnitude(i) for i in df['Mag']]\n",
    "df['Jenis Kedalaman'] = [depth(i) for i in df['Depth']]"
   ]
  },
  {
   "cell_type": "code",
   "execution_count": 17,
   "metadata": {},
   "outputs": [
    {
     "data": {
      "text/html": [
       "<div>\n",
       "<style scoped>\n",
       "    .dataframe tbody tr th:only-of-type {\n",
       "        vertical-align: middle;\n",
       "    }\n",
       "\n",
       "    .dataframe tbody tr th {\n",
       "        vertical-align: top;\n",
       "    }\n",
       "\n",
       "    .dataframe thead th {\n",
       "        text-align: right;\n",
       "    }\n",
       "</style>\n",
       "<table border=\"1\" class=\"dataframe\">\n",
       "  <thead>\n",
       "    <tr style=\"text-align: right;\">\n",
       "      <th></th>\n",
       "      <th>Date</th>\n",
       "      <th>Mag</th>\n",
       "      <th>Lattitude</th>\n",
       "      <th>Longitude</th>\n",
       "      <th>Depth</th>\n",
       "      <th>KETERANGAN_LOKASI</th>\n",
       "      <th>Patahan</th>\n",
       "      <th>Jenis Gempa</th>\n",
       "      <th>Jenis Kedalaman</th>\n",
       "    </tr>\n",
       "  </thead>\n",
       "  <tbody>\n",
       "    <tr>\n",
       "      <th>0</th>\n",
       "      <td>2015-01-01</td>\n",
       "      <td>3.4</td>\n",
       "      <td>-1.99</td>\n",
       "      <td>120.41</td>\n",
       "      <td>17</td>\n",
       "      <td>47 km BaratLaut Mangkutana</td>\n",
       "      <td>Patahan Matano</td>\n",
       "      <td>Gempa Sedang</td>\n",
       "      <td>Gempa Dangkal</td>\n",
       "    </tr>\n",
       "    <tr>\n",
       "      <th>1</th>\n",
       "      <td>2015-01-01</td>\n",
       "      <td>3.3</td>\n",
       "      <td>-1.88</td>\n",
       "      <td>120.30</td>\n",
       "      <td>24</td>\n",
       "      <td>60 km Tenggara Kulawi</td>\n",
       "      <td>Patahan Palu Koro</td>\n",
       "      <td>Gempa Sedang</td>\n",
       "      <td>Gempa Dangkal</td>\n",
       "    </tr>\n",
       "    <tr>\n",
       "      <th>2</th>\n",
       "      <td>2015-02-01</td>\n",
       "      <td>4.8</td>\n",
       "      <td>-2.22</td>\n",
       "      <td>120.87</td>\n",
       "      <td>17</td>\n",
       "      <td>34 km TimurLaut Mangkutana</td>\n",
       "      <td>Patahan Matano</td>\n",
       "      <td>Gempa Sedang</td>\n",
       "      <td>Gempa Dangkal</td>\n",
       "    </tr>\n",
       "    <tr>\n",
       "      <th>3</th>\n",
       "      <td>2015-02-01</td>\n",
       "      <td>4.5</td>\n",
       "      <td>-2.21</td>\n",
       "      <td>120.87</td>\n",
       "      <td>12</td>\n",
       "      <td>35 km TimurLaut Mangkutana</td>\n",
       "      <td>Patahan Matano</td>\n",
       "      <td>Gempa Sedang</td>\n",
       "      <td>Gempa Dangkal</td>\n",
       "    </tr>\n",
       "    <tr>\n",
       "      <th>4</th>\n",
       "      <td>2015-02-01</td>\n",
       "      <td>4.1</td>\n",
       "      <td>-2.17</td>\n",
       "      <td>120.77</td>\n",
       "      <td>10</td>\n",
       "      <td>29 km TimurLaut Mangkutana</td>\n",
       "      <td>Patahan Matano</td>\n",
       "      <td>Gempa Sedang</td>\n",
       "      <td>Gempa Dangkal</td>\n",
       "    </tr>\n",
       "  </tbody>\n",
       "</table>\n",
       "</div>"
      ],
      "text/plain": [
       "        Date  Mag  Lattitude  Longitude  Depth           KETERANGAN_LOKASI  \\\n",
       "0 2015-01-01  3.4      -1.99     120.41     17  47 km BaratLaut Mangkutana   \n",
       "1 2015-01-01  3.3      -1.88     120.30     24       60 km Tenggara Kulawi   \n",
       "2 2015-02-01  4.8      -2.22     120.87     17  34 km TimurLaut Mangkutana   \n",
       "3 2015-02-01  4.5      -2.21     120.87     12  35 km TimurLaut Mangkutana   \n",
       "4 2015-02-01  4.1      -2.17     120.77     10  29 km TimurLaut Mangkutana   \n",
       "\n",
       "             Patahan   Jenis Gempa Jenis Kedalaman  \n",
       "0     Patahan Matano  Gempa Sedang   Gempa Dangkal  \n",
       "1  Patahan Palu Koro  Gempa Sedang   Gempa Dangkal  \n",
       "2     Patahan Matano  Gempa Sedang   Gempa Dangkal  \n",
       "3     Patahan Matano  Gempa Sedang   Gempa Dangkal  \n",
       "4     Patahan Matano  Gempa Sedang   Gempa Dangkal  "
      ]
     },
     "execution_count": 17,
     "metadata": {},
     "output_type": "execute_result"
    }
   ],
   "source": [
    "df.head()"
   ]
  },
  {
   "cell_type": "code",
   "execution_count": 25,
   "metadata": {},
   "outputs": [],
   "source": [
    "df_jenisGempa = df.groupby(['Patahan', 'Jenis Gempa'])[['Jenis Gempa']].count().rename(columns={'Jenis Gempa' : 'Total'}).reset_index()\n",
    "df_jenisKedalaman = df.groupby(['Patahan', 'Jenis Kedalaman'])[['Jenis Kedalaman']].count().rename(columns={'Jenis Kedalaman' : 'Total'}).reset_index()"
   ]
  },
  {
   "cell_type": "code",
   "execution_count": 27,
   "metadata": {},
   "outputs": [
    {
     "data": {
      "application/vnd.plotly.v1+json": {
       "config": {
        "plotlyServerURL": "https://plot.ly"
       },
       "data": [
        {
         "alignmentgroup": "True",
         "customdata": [
          [
           "Gempa Kecil"
          ],
          [
           "Gempa Kecil"
          ],
          [
           "Gempa Kecil"
          ],
          [
           "Gempa Kecil"
          ],
          [
           "Gempa Kecil"
          ]
         ],
         "hovertemplate": "Jenis Gempa=%{customdata[0]}<br>Total=%{x}<br>Patahan=%{y}<extra></extra>",
         "legendgroup": "Gempa Kecil",
         "marker": {
          "color": "#636efa",
          "pattern": {
           "shape": ""
          }
         },
         "name": "Gempa Kecil",
         "offsetgroup": "Gempa Kecil",
         "orientation": "h",
         "showlegend": true,
         "textposition": "auto",
         "type": "bar",
         "x": [
          29,
          165,
          264,
          906,
          124
         ],
         "xaxis": "x",
         "y": [
          "Patahan Lawanopo",
          "Patahan Matano",
          "Patahan Palu Koro",
          "Patahan Saddang",
          "Patahan Walanae"
         ],
         "yaxis": "y"
        },
        {
         "alignmentgroup": "True",
         "customdata": [
          [
           "Gempa Kuat"
          ],
          [
           "Gempa Kuat"
          ],
          [
           "Gempa Kuat"
          ],
          [
           "Gempa Kuat"
          ],
          [
           "Gempa Kuat"
          ]
         ],
         "hovertemplate": "Jenis Gempa=%{customdata[0]}<br>Total=%{x}<br>Patahan=%{y}<extra></extra>",
         "legendgroup": "Gempa Kuat",
         "marker": {
          "color": "#EF553B",
          "pattern": {
           "shape": ""
          }
         },
         "name": "Gempa Kuat",
         "offsetgroup": "Gempa Kuat",
         "orientation": "h",
         "showlegend": true,
         "textposition": "auto",
         "type": "bar",
         "x": [
          5,
          13,
          45,
          9,
          12
         ],
         "xaxis": "x",
         "y": [
          "Patahan Lawanopo",
          "Patahan Matano",
          "Patahan Palu Koro",
          "Patahan Saddang",
          "Patahan Walanae"
         ],
         "yaxis": "y"
        },
        {
         "alignmentgroup": "True",
         "customdata": [
          [
           "Gempa Sedang"
          ],
          [
           "Gempa Sedang"
          ],
          [
           "Gempa Sedang"
          ],
          [
           "Gempa Sedang"
          ],
          [
           "Gempa Sedang"
          ]
         ],
         "hovertemplate": "Jenis Gempa=%{customdata[0]}<br>Total=%{x}<br>Patahan=%{y}<extra></extra>",
         "legendgroup": "Gempa Sedang",
         "marker": {
          "color": "#00cc96",
          "pattern": {
           "shape": ""
          }
         },
         "name": "Gempa Sedang",
         "offsetgroup": "Gempa Sedang",
         "orientation": "h",
         "showlegend": true,
         "textposition": "auto",
         "type": "bar",
         "x": [
          56,
          452,
          1222,
          445,
          85
         ],
         "xaxis": "x",
         "y": [
          "Patahan Lawanopo",
          "Patahan Matano",
          "Patahan Palu Koro",
          "Patahan Saddang",
          "Patahan Walanae"
         ],
         "yaxis": "y"
        }
       ],
       "layout": {
        "autosize": false,
        "barmode": "relative",
        "height": 500,
        "legend": {
         "title": {
          "text": "Jenis Gempa"
         },
         "tracegroupgap": 0
        },
        "margin": {
         "t": 60
        },
        "template": {
         "data": {
          "bar": [
           {
            "error_x": {
             "color": "#2a3f5f"
            },
            "error_y": {
             "color": "#2a3f5f"
            },
            "marker": {
             "line": {
              "color": "#E5ECF6",
              "width": 0.5
             },
             "pattern": {
              "fillmode": "overlay",
              "size": 10,
              "solidity": 0.2
             }
            },
            "type": "bar"
           }
          ],
          "barpolar": [
           {
            "marker": {
             "line": {
              "color": "#E5ECF6",
              "width": 0.5
             },
             "pattern": {
              "fillmode": "overlay",
              "size": 10,
              "solidity": 0.2
             }
            },
            "type": "barpolar"
           }
          ],
          "carpet": [
           {
            "aaxis": {
             "endlinecolor": "#2a3f5f",
             "gridcolor": "white",
             "linecolor": "white",
             "minorgridcolor": "white",
             "startlinecolor": "#2a3f5f"
            },
            "baxis": {
             "endlinecolor": "#2a3f5f",
             "gridcolor": "white",
             "linecolor": "white",
             "minorgridcolor": "white",
             "startlinecolor": "#2a3f5f"
            },
            "type": "carpet"
           }
          ],
          "choropleth": [
           {
            "colorbar": {
             "outlinewidth": 0,
             "ticks": ""
            },
            "type": "choropleth"
           }
          ],
          "contour": [
           {
            "colorbar": {
             "outlinewidth": 0,
             "ticks": ""
            },
            "colorscale": [
             [
              0,
              "#0d0887"
             ],
             [
              0.1111111111111111,
              "#46039f"
             ],
             [
              0.2222222222222222,
              "#7201a8"
             ],
             [
              0.3333333333333333,
              "#9c179e"
             ],
             [
              0.4444444444444444,
              "#bd3786"
             ],
             [
              0.5555555555555556,
              "#d8576b"
             ],
             [
              0.6666666666666666,
              "#ed7953"
             ],
             [
              0.7777777777777778,
              "#fb9f3a"
             ],
             [
              0.8888888888888888,
              "#fdca26"
             ],
             [
              1,
              "#f0f921"
             ]
            ],
            "type": "contour"
           }
          ],
          "contourcarpet": [
           {
            "colorbar": {
             "outlinewidth": 0,
             "ticks": ""
            },
            "type": "contourcarpet"
           }
          ],
          "heatmap": [
           {
            "colorbar": {
             "outlinewidth": 0,
             "ticks": ""
            },
            "colorscale": [
             [
              0,
              "#0d0887"
             ],
             [
              0.1111111111111111,
              "#46039f"
             ],
             [
              0.2222222222222222,
              "#7201a8"
             ],
             [
              0.3333333333333333,
              "#9c179e"
             ],
             [
              0.4444444444444444,
              "#bd3786"
             ],
             [
              0.5555555555555556,
              "#d8576b"
             ],
             [
              0.6666666666666666,
              "#ed7953"
             ],
             [
              0.7777777777777778,
              "#fb9f3a"
             ],
             [
              0.8888888888888888,
              "#fdca26"
             ],
             [
              1,
              "#f0f921"
             ]
            ],
            "type": "heatmap"
           }
          ],
          "heatmapgl": [
           {
            "colorbar": {
             "outlinewidth": 0,
             "ticks": ""
            },
            "colorscale": [
             [
              0,
              "#0d0887"
             ],
             [
              0.1111111111111111,
              "#46039f"
             ],
             [
              0.2222222222222222,
              "#7201a8"
             ],
             [
              0.3333333333333333,
              "#9c179e"
             ],
             [
              0.4444444444444444,
              "#bd3786"
             ],
             [
              0.5555555555555556,
              "#d8576b"
             ],
             [
              0.6666666666666666,
              "#ed7953"
             ],
             [
              0.7777777777777778,
              "#fb9f3a"
             ],
             [
              0.8888888888888888,
              "#fdca26"
             ],
             [
              1,
              "#f0f921"
             ]
            ],
            "type": "heatmapgl"
           }
          ],
          "histogram": [
           {
            "marker": {
             "pattern": {
              "fillmode": "overlay",
              "size": 10,
              "solidity": 0.2
             }
            },
            "type": "histogram"
           }
          ],
          "histogram2d": [
           {
            "colorbar": {
             "outlinewidth": 0,
             "ticks": ""
            },
            "colorscale": [
             [
              0,
              "#0d0887"
             ],
             [
              0.1111111111111111,
              "#46039f"
             ],
             [
              0.2222222222222222,
              "#7201a8"
             ],
             [
              0.3333333333333333,
              "#9c179e"
             ],
             [
              0.4444444444444444,
              "#bd3786"
             ],
             [
              0.5555555555555556,
              "#d8576b"
             ],
             [
              0.6666666666666666,
              "#ed7953"
             ],
             [
              0.7777777777777778,
              "#fb9f3a"
             ],
             [
              0.8888888888888888,
              "#fdca26"
             ],
             [
              1,
              "#f0f921"
             ]
            ],
            "type": "histogram2d"
           }
          ],
          "histogram2dcontour": [
           {
            "colorbar": {
             "outlinewidth": 0,
             "ticks": ""
            },
            "colorscale": [
             [
              0,
              "#0d0887"
             ],
             [
              0.1111111111111111,
              "#46039f"
             ],
             [
              0.2222222222222222,
              "#7201a8"
             ],
             [
              0.3333333333333333,
              "#9c179e"
             ],
             [
              0.4444444444444444,
              "#bd3786"
             ],
             [
              0.5555555555555556,
              "#d8576b"
             ],
             [
              0.6666666666666666,
              "#ed7953"
             ],
             [
              0.7777777777777778,
              "#fb9f3a"
             ],
             [
              0.8888888888888888,
              "#fdca26"
             ],
             [
              1,
              "#f0f921"
             ]
            ],
            "type": "histogram2dcontour"
           }
          ],
          "mesh3d": [
           {
            "colorbar": {
             "outlinewidth": 0,
             "ticks": ""
            },
            "type": "mesh3d"
           }
          ],
          "parcoords": [
           {
            "line": {
             "colorbar": {
              "outlinewidth": 0,
              "ticks": ""
             }
            },
            "type": "parcoords"
           }
          ],
          "pie": [
           {
            "automargin": true,
            "type": "pie"
           }
          ],
          "scatter": [
           {
            "marker": {
             "colorbar": {
              "outlinewidth": 0,
              "ticks": ""
             }
            },
            "type": "scatter"
           }
          ],
          "scatter3d": [
           {
            "line": {
             "colorbar": {
              "outlinewidth": 0,
              "ticks": ""
             }
            },
            "marker": {
             "colorbar": {
              "outlinewidth": 0,
              "ticks": ""
             }
            },
            "type": "scatter3d"
           }
          ],
          "scattercarpet": [
           {
            "marker": {
             "colorbar": {
              "outlinewidth": 0,
              "ticks": ""
             }
            },
            "type": "scattercarpet"
           }
          ],
          "scattergeo": [
           {
            "marker": {
             "colorbar": {
              "outlinewidth": 0,
              "ticks": ""
             }
            },
            "type": "scattergeo"
           }
          ],
          "scattergl": [
           {
            "marker": {
             "colorbar": {
              "outlinewidth": 0,
              "ticks": ""
             }
            },
            "type": "scattergl"
           }
          ],
          "scattermapbox": [
           {
            "marker": {
             "colorbar": {
              "outlinewidth": 0,
              "ticks": ""
             }
            },
            "type": "scattermapbox"
           }
          ],
          "scatterpolar": [
           {
            "marker": {
             "colorbar": {
              "outlinewidth": 0,
              "ticks": ""
             }
            },
            "type": "scatterpolar"
           }
          ],
          "scatterpolargl": [
           {
            "marker": {
             "colorbar": {
              "outlinewidth": 0,
              "ticks": ""
             }
            },
            "type": "scatterpolargl"
           }
          ],
          "scatterternary": [
           {
            "marker": {
             "colorbar": {
              "outlinewidth": 0,
              "ticks": ""
             }
            },
            "type": "scatterternary"
           }
          ],
          "surface": [
           {
            "colorbar": {
             "outlinewidth": 0,
             "ticks": ""
            },
            "colorscale": [
             [
              0,
              "#0d0887"
             ],
             [
              0.1111111111111111,
              "#46039f"
             ],
             [
              0.2222222222222222,
              "#7201a8"
             ],
             [
              0.3333333333333333,
              "#9c179e"
             ],
             [
              0.4444444444444444,
              "#bd3786"
             ],
             [
              0.5555555555555556,
              "#d8576b"
             ],
             [
              0.6666666666666666,
              "#ed7953"
             ],
             [
              0.7777777777777778,
              "#fb9f3a"
             ],
             [
              0.8888888888888888,
              "#fdca26"
             ],
             [
              1,
              "#f0f921"
             ]
            ],
            "type": "surface"
           }
          ],
          "table": [
           {
            "cells": {
             "fill": {
              "color": "#EBF0F8"
             },
             "line": {
              "color": "white"
             }
            },
            "header": {
             "fill": {
              "color": "#C8D4E3"
             },
             "line": {
              "color": "white"
             }
            },
            "type": "table"
           }
          ]
         },
         "layout": {
          "annotationdefaults": {
           "arrowcolor": "#2a3f5f",
           "arrowhead": 0,
           "arrowwidth": 1
          },
          "autotypenumbers": "strict",
          "coloraxis": {
           "colorbar": {
            "outlinewidth": 0,
            "ticks": ""
           }
          },
          "colorscale": {
           "diverging": [
            [
             0,
             "#8e0152"
            ],
            [
             0.1,
             "#c51b7d"
            ],
            [
             0.2,
             "#de77ae"
            ],
            [
             0.3,
             "#f1b6da"
            ],
            [
             0.4,
             "#fde0ef"
            ],
            [
             0.5,
             "#f7f7f7"
            ],
            [
             0.6,
             "#e6f5d0"
            ],
            [
             0.7,
             "#b8e186"
            ],
            [
             0.8,
             "#7fbc41"
            ],
            [
             0.9,
             "#4d9221"
            ],
            [
             1,
             "#276419"
            ]
           ],
           "sequential": [
            [
             0,
             "#0d0887"
            ],
            [
             0.1111111111111111,
             "#46039f"
            ],
            [
             0.2222222222222222,
             "#7201a8"
            ],
            [
             0.3333333333333333,
             "#9c179e"
            ],
            [
             0.4444444444444444,
             "#bd3786"
            ],
            [
             0.5555555555555556,
             "#d8576b"
            ],
            [
             0.6666666666666666,
             "#ed7953"
            ],
            [
             0.7777777777777778,
             "#fb9f3a"
            ],
            [
             0.8888888888888888,
             "#fdca26"
            ],
            [
             1,
             "#f0f921"
            ]
           ],
           "sequentialminus": [
            [
             0,
             "#0d0887"
            ],
            [
             0.1111111111111111,
             "#46039f"
            ],
            [
             0.2222222222222222,
             "#7201a8"
            ],
            [
             0.3333333333333333,
             "#9c179e"
            ],
            [
             0.4444444444444444,
             "#bd3786"
            ],
            [
             0.5555555555555556,
             "#d8576b"
            ],
            [
             0.6666666666666666,
             "#ed7953"
            ],
            [
             0.7777777777777778,
             "#fb9f3a"
            ],
            [
             0.8888888888888888,
             "#fdca26"
            ],
            [
             1,
             "#f0f921"
            ]
           ]
          },
          "colorway": [
           "#636efa",
           "#EF553B",
           "#00cc96",
           "#ab63fa",
           "#FFA15A",
           "#19d3f3",
           "#FF6692",
           "#B6E880",
           "#FF97FF",
           "#FECB52"
          ],
          "font": {
           "color": "#2a3f5f"
          },
          "geo": {
           "bgcolor": "white",
           "lakecolor": "white",
           "landcolor": "#E5ECF6",
           "showlakes": true,
           "showland": true,
           "subunitcolor": "white"
          },
          "hoverlabel": {
           "align": "left"
          },
          "hovermode": "closest",
          "mapbox": {
           "style": "light"
          },
          "paper_bgcolor": "white",
          "plot_bgcolor": "#E5ECF6",
          "polar": {
           "angularaxis": {
            "gridcolor": "white",
            "linecolor": "white",
            "ticks": ""
           },
           "bgcolor": "#E5ECF6",
           "radialaxis": {
            "gridcolor": "white",
            "linecolor": "white",
            "ticks": ""
           }
          },
          "scene": {
           "xaxis": {
            "backgroundcolor": "#E5ECF6",
            "gridcolor": "white",
            "gridwidth": 2,
            "linecolor": "white",
            "showbackground": true,
            "ticks": "",
            "zerolinecolor": "white"
           },
           "yaxis": {
            "backgroundcolor": "#E5ECF6",
            "gridcolor": "white",
            "gridwidth": 2,
            "linecolor": "white",
            "showbackground": true,
            "ticks": "",
            "zerolinecolor": "white"
           },
           "zaxis": {
            "backgroundcolor": "#E5ECF6",
            "gridcolor": "white",
            "gridwidth": 2,
            "linecolor": "white",
            "showbackground": true,
            "ticks": "",
            "zerolinecolor": "white"
           }
          },
          "shapedefaults": {
           "line": {
            "color": "#2a3f5f"
           }
          },
          "ternary": {
           "aaxis": {
            "gridcolor": "white",
            "linecolor": "white",
            "ticks": ""
           },
           "baxis": {
            "gridcolor": "white",
            "linecolor": "white",
            "ticks": ""
           },
           "bgcolor": "#E5ECF6",
           "caxis": {
            "gridcolor": "white",
            "linecolor": "white",
            "ticks": ""
           }
          },
          "title": {
           "x": 0.05
          },
          "xaxis": {
           "automargin": true,
           "gridcolor": "white",
           "linecolor": "white",
           "ticks": "",
           "title": {
            "standoff": 15
           },
           "zerolinecolor": "white",
           "zerolinewidth": 2
          },
          "yaxis": {
           "automargin": true,
           "gridcolor": "white",
           "linecolor": "white",
           "ticks": "",
           "title": {
            "standoff": 15
           },
           "zerolinecolor": "white",
           "zerolinewidth": 2
          }
         }
        },
        "title": {
         "text": "Eartquake's Magnitude each Faults Area"
        },
        "width": 1000,
        "xaxis": {
         "anchor": "y",
         "domain": [
          0,
          1
         ],
         "title": {
          "text": "Total Earthquakes"
         }
        },
        "yaxis": {
         "anchor": "x",
         "categoryorder": "total ascending",
         "domain": [
          0,
          1
         ],
         "title": {
          "text": "Faults"
         }
        }
       }
      },
      "text/html": [
       "<div>                            <div id=\"4cd3ec7e-17e6-4453-9d89-a7ad060dcbf9\" class=\"plotly-graph-div\" style=\"height:500px; width:1000px;\"></div>            <script type=\"text/javascript\">                require([\"plotly\"], function(Plotly) {                    window.PLOTLYENV=window.PLOTLYENV || {};                                    if (document.getElementById(\"4cd3ec7e-17e6-4453-9d89-a7ad060dcbf9\")) {                    Plotly.newPlot(                        \"4cd3ec7e-17e6-4453-9d89-a7ad060dcbf9\",                        [{\"alignmentgroup\":\"True\",\"customdata\":[[\"Gempa Kecil\"],[\"Gempa Kecil\"],[\"Gempa Kecil\"],[\"Gempa Kecil\"],[\"Gempa Kecil\"]],\"hovertemplate\":\"Jenis Gempa=%{customdata[0]}<br>Total=%{x}<br>Patahan=%{y}<extra></extra>\",\"legendgroup\":\"Gempa Kecil\",\"marker\":{\"color\":\"#636efa\",\"pattern\":{\"shape\":\"\"}},\"name\":\"Gempa Kecil\",\"offsetgroup\":\"Gempa Kecil\",\"orientation\":\"h\",\"showlegend\":true,\"textposition\":\"auto\",\"x\":[29,165,264,906,124],\"xaxis\":\"x\",\"y\":[\"Patahan Lawanopo\",\"Patahan Matano\",\"Patahan Palu Koro\",\"Patahan Saddang\",\"Patahan Walanae\"],\"yaxis\":\"y\",\"type\":\"bar\"},{\"alignmentgroup\":\"True\",\"customdata\":[[\"Gempa Kuat\"],[\"Gempa Kuat\"],[\"Gempa Kuat\"],[\"Gempa Kuat\"],[\"Gempa Kuat\"]],\"hovertemplate\":\"Jenis Gempa=%{customdata[0]}<br>Total=%{x}<br>Patahan=%{y}<extra></extra>\",\"legendgroup\":\"Gempa Kuat\",\"marker\":{\"color\":\"#EF553B\",\"pattern\":{\"shape\":\"\"}},\"name\":\"Gempa Kuat\",\"offsetgroup\":\"Gempa Kuat\",\"orientation\":\"h\",\"showlegend\":true,\"textposition\":\"auto\",\"x\":[5,13,45,9,12],\"xaxis\":\"x\",\"y\":[\"Patahan Lawanopo\",\"Patahan Matano\",\"Patahan Palu Koro\",\"Patahan Saddang\",\"Patahan Walanae\"],\"yaxis\":\"y\",\"type\":\"bar\"},{\"alignmentgroup\":\"True\",\"customdata\":[[\"Gempa Sedang\"],[\"Gempa Sedang\"],[\"Gempa Sedang\"],[\"Gempa Sedang\"],[\"Gempa Sedang\"]],\"hovertemplate\":\"Jenis Gempa=%{customdata[0]}<br>Total=%{x}<br>Patahan=%{y}<extra></extra>\",\"legendgroup\":\"Gempa Sedang\",\"marker\":{\"color\":\"#00cc96\",\"pattern\":{\"shape\":\"\"}},\"name\":\"Gempa Sedang\",\"offsetgroup\":\"Gempa Sedang\",\"orientation\":\"h\",\"showlegend\":true,\"textposition\":\"auto\",\"x\":[56,452,1222,445,85],\"xaxis\":\"x\",\"y\":[\"Patahan Lawanopo\",\"Patahan Matano\",\"Patahan Palu Koro\",\"Patahan Saddang\",\"Patahan Walanae\"],\"yaxis\":\"y\",\"type\":\"bar\"}],                        {\"template\":{\"data\":{\"bar\":[{\"error_x\":{\"color\":\"#2a3f5f\"},\"error_y\":{\"color\":\"#2a3f5f\"},\"marker\":{\"line\":{\"color\":\"#E5ECF6\",\"width\":0.5},\"pattern\":{\"fillmode\":\"overlay\",\"size\":10,\"solidity\":0.2}},\"type\":\"bar\"}],\"barpolar\":[{\"marker\":{\"line\":{\"color\":\"#E5ECF6\",\"width\":0.5},\"pattern\":{\"fillmode\":\"overlay\",\"size\":10,\"solidity\":0.2}},\"type\":\"barpolar\"}],\"carpet\":[{\"aaxis\":{\"endlinecolor\":\"#2a3f5f\",\"gridcolor\":\"white\",\"linecolor\":\"white\",\"minorgridcolor\":\"white\",\"startlinecolor\":\"#2a3f5f\"},\"baxis\":{\"endlinecolor\":\"#2a3f5f\",\"gridcolor\":\"white\",\"linecolor\":\"white\",\"minorgridcolor\":\"white\",\"startlinecolor\":\"#2a3f5f\"},\"type\":\"carpet\"}],\"choropleth\":[{\"colorbar\":{\"outlinewidth\":0,\"ticks\":\"\"},\"type\":\"choropleth\"}],\"contour\":[{\"colorbar\":{\"outlinewidth\":0,\"ticks\":\"\"},\"colorscale\":[[0.0,\"#0d0887\"],[0.1111111111111111,\"#46039f\"],[0.2222222222222222,\"#7201a8\"],[0.3333333333333333,\"#9c179e\"],[0.4444444444444444,\"#bd3786\"],[0.5555555555555556,\"#d8576b\"],[0.6666666666666666,\"#ed7953\"],[0.7777777777777778,\"#fb9f3a\"],[0.8888888888888888,\"#fdca26\"],[1.0,\"#f0f921\"]],\"type\":\"contour\"}],\"contourcarpet\":[{\"colorbar\":{\"outlinewidth\":0,\"ticks\":\"\"},\"type\":\"contourcarpet\"}],\"heatmap\":[{\"colorbar\":{\"outlinewidth\":0,\"ticks\":\"\"},\"colorscale\":[[0.0,\"#0d0887\"],[0.1111111111111111,\"#46039f\"],[0.2222222222222222,\"#7201a8\"],[0.3333333333333333,\"#9c179e\"],[0.4444444444444444,\"#bd3786\"],[0.5555555555555556,\"#d8576b\"],[0.6666666666666666,\"#ed7953\"],[0.7777777777777778,\"#fb9f3a\"],[0.8888888888888888,\"#fdca26\"],[1.0,\"#f0f921\"]],\"type\":\"heatmap\"}],\"heatmapgl\":[{\"colorbar\":{\"outlinewidth\":0,\"ticks\":\"\"},\"colorscale\":[[0.0,\"#0d0887\"],[0.1111111111111111,\"#46039f\"],[0.2222222222222222,\"#7201a8\"],[0.3333333333333333,\"#9c179e\"],[0.4444444444444444,\"#bd3786\"],[0.5555555555555556,\"#d8576b\"],[0.6666666666666666,\"#ed7953\"],[0.7777777777777778,\"#fb9f3a\"],[0.8888888888888888,\"#fdca26\"],[1.0,\"#f0f921\"]],\"type\":\"heatmapgl\"}],\"histogram\":[{\"marker\":{\"pattern\":{\"fillmode\":\"overlay\",\"size\":10,\"solidity\":0.2}},\"type\":\"histogram\"}],\"histogram2d\":[{\"colorbar\":{\"outlinewidth\":0,\"ticks\":\"\"},\"colorscale\":[[0.0,\"#0d0887\"],[0.1111111111111111,\"#46039f\"],[0.2222222222222222,\"#7201a8\"],[0.3333333333333333,\"#9c179e\"],[0.4444444444444444,\"#bd3786\"],[0.5555555555555556,\"#d8576b\"],[0.6666666666666666,\"#ed7953\"],[0.7777777777777778,\"#fb9f3a\"],[0.8888888888888888,\"#fdca26\"],[1.0,\"#f0f921\"]],\"type\":\"histogram2d\"}],\"histogram2dcontour\":[{\"colorbar\":{\"outlinewidth\":0,\"ticks\":\"\"},\"colorscale\":[[0.0,\"#0d0887\"],[0.1111111111111111,\"#46039f\"],[0.2222222222222222,\"#7201a8\"],[0.3333333333333333,\"#9c179e\"],[0.4444444444444444,\"#bd3786\"],[0.5555555555555556,\"#d8576b\"],[0.6666666666666666,\"#ed7953\"],[0.7777777777777778,\"#fb9f3a\"],[0.8888888888888888,\"#fdca26\"],[1.0,\"#f0f921\"]],\"type\":\"histogram2dcontour\"}],\"mesh3d\":[{\"colorbar\":{\"outlinewidth\":0,\"ticks\":\"\"},\"type\":\"mesh3d\"}],\"parcoords\":[{\"line\":{\"colorbar\":{\"outlinewidth\":0,\"ticks\":\"\"}},\"type\":\"parcoords\"}],\"pie\":[{\"automargin\":true,\"type\":\"pie\"}],\"scatter\":[{\"marker\":{\"colorbar\":{\"outlinewidth\":0,\"ticks\":\"\"}},\"type\":\"scatter\"}],\"scatter3d\":[{\"line\":{\"colorbar\":{\"outlinewidth\":0,\"ticks\":\"\"}},\"marker\":{\"colorbar\":{\"outlinewidth\":0,\"ticks\":\"\"}},\"type\":\"scatter3d\"}],\"scattercarpet\":[{\"marker\":{\"colorbar\":{\"outlinewidth\":0,\"ticks\":\"\"}},\"type\":\"scattercarpet\"}],\"scattergeo\":[{\"marker\":{\"colorbar\":{\"outlinewidth\":0,\"ticks\":\"\"}},\"type\":\"scattergeo\"}],\"scattergl\":[{\"marker\":{\"colorbar\":{\"outlinewidth\":0,\"ticks\":\"\"}},\"type\":\"scattergl\"}],\"scattermapbox\":[{\"marker\":{\"colorbar\":{\"outlinewidth\":0,\"ticks\":\"\"}},\"type\":\"scattermapbox\"}],\"scatterpolar\":[{\"marker\":{\"colorbar\":{\"outlinewidth\":0,\"ticks\":\"\"}},\"type\":\"scatterpolar\"}],\"scatterpolargl\":[{\"marker\":{\"colorbar\":{\"outlinewidth\":0,\"ticks\":\"\"}},\"type\":\"scatterpolargl\"}],\"scatterternary\":[{\"marker\":{\"colorbar\":{\"outlinewidth\":0,\"ticks\":\"\"}},\"type\":\"scatterternary\"}],\"surface\":[{\"colorbar\":{\"outlinewidth\":0,\"ticks\":\"\"},\"colorscale\":[[0.0,\"#0d0887\"],[0.1111111111111111,\"#46039f\"],[0.2222222222222222,\"#7201a8\"],[0.3333333333333333,\"#9c179e\"],[0.4444444444444444,\"#bd3786\"],[0.5555555555555556,\"#d8576b\"],[0.6666666666666666,\"#ed7953\"],[0.7777777777777778,\"#fb9f3a\"],[0.8888888888888888,\"#fdca26\"],[1.0,\"#f0f921\"]],\"type\":\"surface\"}],\"table\":[{\"cells\":{\"fill\":{\"color\":\"#EBF0F8\"},\"line\":{\"color\":\"white\"}},\"header\":{\"fill\":{\"color\":\"#C8D4E3\"},\"line\":{\"color\":\"white\"}},\"type\":\"table\"}]},\"layout\":{\"annotationdefaults\":{\"arrowcolor\":\"#2a3f5f\",\"arrowhead\":0,\"arrowwidth\":1},\"autotypenumbers\":\"strict\",\"coloraxis\":{\"colorbar\":{\"outlinewidth\":0,\"ticks\":\"\"}},\"colorscale\":{\"diverging\":[[0,\"#8e0152\"],[0.1,\"#c51b7d\"],[0.2,\"#de77ae\"],[0.3,\"#f1b6da\"],[0.4,\"#fde0ef\"],[0.5,\"#f7f7f7\"],[0.6,\"#e6f5d0\"],[0.7,\"#b8e186\"],[0.8,\"#7fbc41\"],[0.9,\"#4d9221\"],[1,\"#276419\"]],\"sequential\":[[0.0,\"#0d0887\"],[0.1111111111111111,\"#46039f\"],[0.2222222222222222,\"#7201a8\"],[0.3333333333333333,\"#9c179e\"],[0.4444444444444444,\"#bd3786\"],[0.5555555555555556,\"#d8576b\"],[0.6666666666666666,\"#ed7953\"],[0.7777777777777778,\"#fb9f3a\"],[0.8888888888888888,\"#fdca26\"],[1.0,\"#f0f921\"]],\"sequentialminus\":[[0.0,\"#0d0887\"],[0.1111111111111111,\"#46039f\"],[0.2222222222222222,\"#7201a8\"],[0.3333333333333333,\"#9c179e\"],[0.4444444444444444,\"#bd3786\"],[0.5555555555555556,\"#d8576b\"],[0.6666666666666666,\"#ed7953\"],[0.7777777777777778,\"#fb9f3a\"],[0.8888888888888888,\"#fdca26\"],[1.0,\"#f0f921\"]]},\"colorway\":[\"#636efa\",\"#EF553B\",\"#00cc96\",\"#ab63fa\",\"#FFA15A\",\"#19d3f3\",\"#FF6692\",\"#B6E880\",\"#FF97FF\",\"#FECB52\"],\"font\":{\"color\":\"#2a3f5f\"},\"geo\":{\"bgcolor\":\"white\",\"lakecolor\":\"white\",\"landcolor\":\"#E5ECF6\",\"showlakes\":true,\"showland\":true,\"subunitcolor\":\"white\"},\"hoverlabel\":{\"align\":\"left\"},\"hovermode\":\"closest\",\"mapbox\":{\"style\":\"light\"},\"paper_bgcolor\":\"white\",\"plot_bgcolor\":\"#E5ECF6\",\"polar\":{\"angularaxis\":{\"gridcolor\":\"white\",\"linecolor\":\"white\",\"ticks\":\"\"},\"bgcolor\":\"#E5ECF6\",\"radialaxis\":{\"gridcolor\":\"white\",\"linecolor\":\"white\",\"ticks\":\"\"}},\"scene\":{\"xaxis\":{\"backgroundcolor\":\"#E5ECF6\",\"gridcolor\":\"white\",\"gridwidth\":2,\"linecolor\":\"white\",\"showbackground\":true,\"ticks\":\"\",\"zerolinecolor\":\"white\"},\"yaxis\":{\"backgroundcolor\":\"#E5ECF6\",\"gridcolor\":\"white\",\"gridwidth\":2,\"linecolor\":\"white\",\"showbackground\":true,\"ticks\":\"\",\"zerolinecolor\":\"white\"},\"zaxis\":{\"backgroundcolor\":\"#E5ECF6\",\"gridcolor\":\"white\",\"gridwidth\":2,\"linecolor\":\"white\",\"showbackground\":true,\"ticks\":\"\",\"zerolinecolor\":\"white\"}},\"shapedefaults\":{\"line\":{\"color\":\"#2a3f5f\"}},\"ternary\":{\"aaxis\":{\"gridcolor\":\"white\",\"linecolor\":\"white\",\"ticks\":\"\"},\"baxis\":{\"gridcolor\":\"white\",\"linecolor\":\"white\",\"ticks\":\"\"},\"bgcolor\":\"#E5ECF6\",\"caxis\":{\"gridcolor\":\"white\",\"linecolor\":\"white\",\"ticks\":\"\"}},\"title\":{\"x\":0.05},\"xaxis\":{\"automargin\":true,\"gridcolor\":\"white\",\"linecolor\":\"white\",\"ticks\":\"\",\"title\":{\"standoff\":15},\"zerolinecolor\":\"white\",\"zerolinewidth\":2},\"yaxis\":{\"automargin\":true,\"gridcolor\":\"white\",\"linecolor\":\"white\",\"ticks\":\"\",\"title\":{\"standoff\":15},\"zerolinecolor\":\"white\",\"zerolinewidth\":2}}},\"xaxis\":{\"anchor\":\"y\",\"domain\":[0.0,1.0],\"title\":{\"text\":\"Total Earthquakes\"}},\"yaxis\":{\"anchor\":\"x\",\"domain\":[0.0,1.0],\"title\":{\"text\":\"Faults\"},\"categoryorder\":\"total ascending\"},\"legend\":{\"title\":{\"text\":\"Jenis Gempa\"},\"tracegroupgap\":0},\"margin\":{\"t\":60},\"barmode\":\"relative\",\"height\":500,\"width\":1000,\"autosize\":false,\"title\":{\"text\":\"Eartquake's Magnitude each Faults Area\"}},                        {\"responsive\": true}                    ).then(function(){\n",
       "                            \n",
       "var gd = document.getElementById('4cd3ec7e-17e6-4453-9d89-a7ad060dcbf9');\n",
       "var x = new MutationObserver(function (mutations, observer) {{\n",
       "        var display = window.getComputedStyle(gd).display;\n",
       "        if (!display || display === 'none') {{\n",
       "            console.log([gd, 'removed!']);\n",
       "            Plotly.purge(gd);\n",
       "            observer.disconnect();\n",
       "        }}\n",
       "}});\n",
       "\n",
       "// Listen for the removal of the full notebook cells\n",
       "var notebookContainer = gd.closest('#notebook-container');\n",
       "if (notebookContainer) {{\n",
       "    x.observe(notebookContainer, {childList: true});\n",
       "}}\n",
       "\n",
       "// Listen for the clearing of the current output cell\n",
       "var outputEl = gd.closest('.output');\n",
       "if (outputEl) {{\n",
       "    x.observe(outputEl, {childList: true});\n",
       "}}\n",
       "\n",
       "                        })                };                });            </script>        </div>"
      ]
     },
     "metadata": {},
     "output_type": "display_data"
    }
   ],
   "source": [
    "stackbar_h(df_jenisGempa, y='Patahan', x='Total',\n",
    "           hover_data=['Jenis Gempa', 'Total'], color='Jenis Gempa',\n",
    "           labels={'Jenis Gempa':'Jenis Gempa'}, width=1000, height=500,\n",
    "           title=\"Eartquake's Magnitude each Faults Area\",\n",
    "           xaxis='Total Earthquakes',\n",
    "           yaxis='Faults',\n",
    "           )"
   ]
  },
  {
   "cell_type": "code",
   "execution_count": 28,
   "metadata": {},
   "outputs": [
    {
     "data": {
      "application/vnd.plotly.v1+json": {
       "config": {
        "plotlyServerURL": "https://plot.ly"
       },
       "data": [
        {
         "alignmentgroup": "True",
         "customdata": [
          [
           "Gempa Dalam"
          ],
          [
           "Gempa Dalam"
          ],
          [
           "Gempa Dalam"
          ],
          [
           "Gempa Dalam"
          ],
          [
           "Gempa Dalam"
          ]
         ],
         "hovertemplate": "Jenis Kedalaman=%{customdata[0]}<br>Total=%{x}<br>Patahan=%{y}<extra></extra>",
         "legendgroup": "Gempa Dalam",
         "marker": {
          "color": "#636efa",
          "pattern": {
           "shape": ""
          }
         },
         "name": "Gempa Dalam",
         "offsetgroup": "Gempa Dalam",
         "orientation": "h",
         "showlegend": true,
         "textposition": "auto",
         "type": "bar",
         "x": [
          10,
          14,
          10,
          8,
          17
         ],
         "xaxis": "x",
         "y": [
          "Patahan Lawanopo",
          "Patahan Matano",
          "Patahan Palu Koro",
          "Patahan Saddang",
          "Patahan Walanae"
         ],
         "yaxis": "y"
        },
        {
         "alignmentgroup": "True",
         "customdata": [
          [
           "Gempa Dangkal"
          ],
          [
           "Gempa Dangkal"
          ],
          [
           "Gempa Dangkal"
          ],
          [
           "Gempa Dangkal"
          ],
          [
           "Gempa Dangkal"
          ]
         ],
         "hovertemplate": "Jenis Kedalaman=%{customdata[0]}<br>Total=%{x}<br>Patahan=%{y}<extra></extra>",
         "legendgroup": "Gempa Dangkal",
         "marker": {
          "color": "#EF553B",
          "pattern": {
           "shape": ""
          }
         },
         "name": "Gempa Dangkal",
         "offsetgroup": "Gempa Dangkal",
         "orientation": "h",
         "showlegend": true,
         "textposition": "auto",
         "type": "bar",
         "x": [
          69,
          582,
          1477,
          1343,
          195
         ],
         "xaxis": "x",
         "y": [
          "Patahan Lawanopo",
          "Patahan Matano",
          "Patahan Palu Koro",
          "Patahan Saddang",
          "Patahan Walanae"
         ],
         "yaxis": "y"
        },
        {
         "alignmentgroup": "True",
         "customdata": [
          [
           "Gempa Menengah"
          ],
          [
           "Gempa Menengah"
          ],
          [
           "Gempa Menengah"
          ],
          [
           "Gempa Menengah"
          ],
          [
           "Gempa Menengah"
          ]
         ],
         "hovertemplate": "Jenis Kedalaman=%{customdata[0]}<br>Total=%{x}<br>Patahan=%{y}<extra></extra>",
         "legendgroup": "Gempa Menengah",
         "marker": {
          "color": "#00cc96",
          "pattern": {
           "shape": ""
          }
         },
         "name": "Gempa Menengah",
         "offsetgroup": "Gempa Menengah",
         "orientation": "h",
         "showlegend": true,
         "textposition": "auto",
         "type": "bar",
         "x": [
          11,
          34,
          44,
          9,
          9
         ],
         "xaxis": "x",
         "y": [
          "Patahan Lawanopo",
          "Patahan Matano",
          "Patahan Palu Koro",
          "Patahan Saddang",
          "Patahan Walanae"
         ],
         "yaxis": "y"
        }
       ],
       "layout": {
        "autosize": false,
        "barmode": "relative",
        "height": 500,
        "legend": {
         "title": {
          "text": "Jenis Kedalaman"
         },
         "tracegroupgap": 0
        },
        "margin": {
         "t": 60
        },
        "template": {
         "data": {
          "bar": [
           {
            "error_x": {
             "color": "#2a3f5f"
            },
            "error_y": {
             "color": "#2a3f5f"
            },
            "marker": {
             "line": {
              "color": "#E5ECF6",
              "width": 0.5
             },
             "pattern": {
              "fillmode": "overlay",
              "size": 10,
              "solidity": 0.2
             }
            },
            "type": "bar"
           }
          ],
          "barpolar": [
           {
            "marker": {
             "line": {
              "color": "#E5ECF6",
              "width": 0.5
             },
             "pattern": {
              "fillmode": "overlay",
              "size": 10,
              "solidity": 0.2
             }
            },
            "type": "barpolar"
           }
          ],
          "carpet": [
           {
            "aaxis": {
             "endlinecolor": "#2a3f5f",
             "gridcolor": "white",
             "linecolor": "white",
             "minorgridcolor": "white",
             "startlinecolor": "#2a3f5f"
            },
            "baxis": {
             "endlinecolor": "#2a3f5f",
             "gridcolor": "white",
             "linecolor": "white",
             "minorgridcolor": "white",
             "startlinecolor": "#2a3f5f"
            },
            "type": "carpet"
           }
          ],
          "choropleth": [
           {
            "colorbar": {
             "outlinewidth": 0,
             "ticks": ""
            },
            "type": "choropleth"
           }
          ],
          "contour": [
           {
            "colorbar": {
             "outlinewidth": 0,
             "ticks": ""
            },
            "colorscale": [
             [
              0,
              "#0d0887"
             ],
             [
              0.1111111111111111,
              "#46039f"
             ],
             [
              0.2222222222222222,
              "#7201a8"
             ],
             [
              0.3333333333333333,
              "#9c179e"
             ],
             [
              0.4444444444444444,
              "#bd3786"
             ],
             [
              0.5555555555555556,
              "#d8576b"
             ],
             [
              0.6666666666666666,
              "#ed7953"
             ],
             [
              0.7777777777777778,
              "#fb9f3a"
             ],
             [
              0.8888888888888888,
              "#fdca26"
             ],
             [
              1,
              "#f0f921"
             ]
            ],
            "type": "contour"
           }
          ],
          "contourcarpet": [
           {
            "colorbar": {
             "outlinewidth": 0,
             "ticks": ""
            },
            "type": "contourcarpet"
           }
          ],
          "heatmap": [
           {
            "colorbar": {
             "outlinewidth": 0,
             "ticks": ""
            },
            "colorscale": [
             [
              0,
              "#0d0887"
             ],
             [
              0.1111111111111111,
              "#46039f"
             ],
             [
              0.2222222222222222,
              "#7201a8"
             ],
             [
              0.3333333333333333,
              "#9c179e"
             ],
             [
              0.4444444444444444,
              "#bd3786"
             ],
             [
              0.5555555555555556,
              "#d8576b"
             ],
             [
              0.6666666666666666,
              "#ed7953"
             ],
             [
              0.7777777777777778,
              "#fb9f3a"
             ],
             [
              0.8888888888888888,
              "#fdca26"
             ],
             [
              1,
              "#f0f921"
             ]
            ],
            "type": "heatmap"
           }
          ],
          "heatmapgl": [
           {
            "colorbar": {
             "outlinewidth": 0,
             "ticks": ""
            },
            "colorscale": [
             [
              0,
              "#0d0887"
             ],
             [
              0.1111111111111111,
              "#46039f"
             ],
             [
              0.2222222222222222,
              "#7201a8"
             ],
             [
              0.3333333333333333,
              "#9c179e"
             ],
             [
              0.4444444444444444,
              "#bd3786"
             ],
             [
              0.5555555555555556,
              "#d8576b"
             ],
             [
              0.6666666666666666,
              "#ed7953"
             ],
             [
              0.7777777777777778,
              "#fb9f3a"
             ],
             [
              0.8888888888888888,
              "#fdca26"
             ],
             [
              1,
              "#f0f921"
             ]
            ],
            "type": "heatmapgl"
           }
          ],
          "histogram": [
           {
            "marker": {
             "pattern": {
              "fillmode": "overlay",
              "size": 10,
              "solidity": 0.2
             }
            },
            "type": "histogram"
           }
          ],
          "histogram2d": [
           {
            "colorbar": {
             "outlinewidth": 0,
             "ticks": ""
            },
            "colorscale": [
             [
              0,
              "#0d0887"
             ],
             [
              0.1111111111111111,
              "#46039f"
             ],
             [
              0.2222222222222222,
              "#7201a8"
             ],
             [
              0.3333333333333333,
              "#9c179e"
             ],
             [
              0.4444444444444444,
              "#bd3786"
             ],
             [
              0.5555555555555556,
              "#d8576b"
             ],
             [
              0.6666666666666666,
              "#ed7953"
             ],
             [
              0.7777777777777778,
              "#fb9f3a"
             ],
             [
              0.8888888888888888,
              "#fdca26"
             ],
             [
              1,
              "#f0f921"
             ]
            ],
            "type": "histogram2d"
           }
          ],
          "histogram2dcontour": [
           {
            "colorbar": {
             "outlinewidth": 0,
             "ticks": ""
            },
            "colorscale": [
             [
              0,
              "#0d0887"
             ],
             [
              0.1111111111111111,
              "#46039f"
             ],
             [
              0.2222222222222222,
              "#7201a8"
             ],
             [
              0.3333333333333333,
              "#9c179e"
             ],
             [
              0.4444444444444444,
              "#bd3786"
             ],
             [
              0.5555555555555556,
              "#d8576b"
             ],
             [
              0.6666666666666666,
              "#ed7953"
             ],
             [
              0.7777777777777778,
              "#fb9f3a"
             ],
             [
              0.8888888888888888,
              "#fdca26"
             ],
             [
              1,
              "#f0f921"
             ]
            ],
            "type": "histogram2dcontour"
           }
          ],
          "mesh3d": [
           {
            "colorbar": {
             "outlinewidth": 0,
             "ticks": ""
            },
            "type": "mesh3d"
           }
          ],
          "parcoords": [
           {
            "line": {
             "colorbar": {
              "outlinewidth": 0,
              "ticks": ""
             }
            },
            "type": "parcoords"
           }
          ],
          "pie": [
           {
            "automargin": true,
            "type": "pie"
           }
          ],
          "scatter": [
           {
            "marker": {
             "colorbar": {
              "outlinewidth": 0,
              "ticks": ""
             }
            },
            "type": "scatter"
           }
          ],
          "scatter3d": [
           {
            "line": {
             "colorbar": {
              "outlinewidth": 0,
              "ticks": ""
             }
            },
            "marker": {
             "colorbar": {
              "outlinewidth": 0,
              "ticks": ""
             }
            },
            "type": "scatter3d"
           }
          ],
          "scattercarpet": [
           {
            "marker": {
             "colorbar": {
              "outlinewidth": 0,
              "ticks": ""
             }
            },
            "type": "scattercarpet"
           }
          ],
          "scattergeo": [
           {
            "marker": {
             "colorbar": {
              "outlinewidth": 0,
              "ticks": ""
             }
            },
            "type": "scattergeo"
           }
          ],
          "scattergl": [
           {
            "marker": {
             "colorbar": {
              "outlinewidth": 0,
              "ticks": ""
             }
            },
            "type": "scattergl"
           }
          ],
          "scattermapbox": [
           {
            "marker": {
             "colorbar": {
              "outlinewidth": 0,
              "ticks": ""
             }
            },
            "type": "scattermapbox"
           }
          ],
          "scatterpolar": [
           {
            "marker": {
             "colorbar": {
              "outlinewidth": 0,
              "ticks": ""
             }
            },
            "type": "scatterpolar"
           }
          ],
          "scatterpolargl": [
           {
            "marker": {
             "colorbar": {
              "outlinewidth": 0,
              "ticks": ""
             }
            },
            "type": "scatterpolargl"
           }
          ],
          "scatterternary": [
           {
            "marker": {
             "colorbar": {
              "outlinewidth": 0,
              "ticks": ""
             }
            },
            "type": "scatterternary"
           }
          ],
          "surface": [
           {
            "colorbar": {
             "outlinewidth": 0,
             "ticks": ""
            },
            "colorscale": [
             [
              0,
              "#0d0887"
             ],
             [
              0.1111111111111111,
              "#46039f"
             ],
             [
              0.2222222222222222,
              "#7201a8"
             ],
             [
              0.3333333333333333,
              "#9c179e"
             ],
             [
              0.4444444444444444,
              "#bd3786"
             ],
             [
              0.5555555555555556,
              "#d8576b"
             ],
             [
              0.6666666666666666,
              "#ed7953"
             ],
             [
              0.7777777777777778,
              "#fb9f3a"
             ],
             [
              0.8888888888888888,
              "#fdca26"
             ],
             [
              1,
              "#f0f921"
             ]
            ],
            "type": "surface"
           }
          ],
          "table": [
           {
            "cells": {
             "fill": {
              "color": "#EBF0F8"
             },
             "line": {
              "color": "white"
             }
            },
            "header": {
             "fill": {
              "color": "#C8D4E3"
             },
             "line": {
              "color": "white"
             }
            },
            "type": "table"
           }
          ]
         },
         "layout": {
          "annotationdefaults": {
           "arrowcolor": "#2a3f5f",
           "arrowhead": 0,
           "arrowwidth": 1
          },
          "autotypenumbers": "strict",
          "coloraxis": {
           "colorbar": {
            "outlinewidth": 0,
            "ticks": ""
           }
          },
          "colorscale": {
           "diverging": [
            [
             0,
             "#8e0152"
            ],
            [
             0.1,
             "#c51b7d"
            ],
            [
             0.2,
             "#de77ae"
            ],
            [
             0.3,
             "#f1b6da"
            ],
            [
             0.4,
             "#fde0ef"
            ],
            [
             0.5,
             "#f7f7f7"
            ],
            [
             0.6,
             "#e6f5d0"
            ],
            [
             0.7,
             "#b8e186"
            ],
            [
             0.8,
             "#7fbc41"
            ],
            [
             0.9,
             "#4d9221"
            ],
            [
             1,
             "#276419"
            ]
           ],
           "sequential": [
            [
             0,
             "#0d0887"
            ],
            [
             0.1111111111111111,
             "#46039f"
            ],
            [
             0.2222222222222222,
             "#7201a8"
            ],
            [
             0.3333333333333333,
             "#9c179e"
            ],
            [
             0.4444444444444444,
             "#bd3786"
            ],
            [
             0.5555555555555556,
             "#d8576b"
            ],
            [
             0.6666666666666666,
             "#ed7953"
            ],
            [
             0.7777777777777778,
             "#fb9f3a"
            ],
            [
             0.8888888888888888,
             "#fdca26"
            ],
            [
             1,
             "#f0f921"
            ]
           ],
           "sequentialminus": [
            [
             0,
             "#0d0887"
            ],
            [
             0.1111111111111111,
             "#46039f"
            ],
            [
             0.2222222222222222,
             "#7201a8"
            ],
            [
             0.3333333333333333,
             "#9c179e"
            ],
            [
             0.4444444444444444,
             "#bd3786"
            ],
            [
             0.5555555555555556,
             "#d8576b"
            ],
            [
             0.6666666666666666,
             "#ed7953"
            ],
            [
             0.7777777777777778,
             "#fb9f3a"
            ],
            [
             0.8888888888888888,
             "#fdca26"
            ],
            [
             1,
             "#f0f921"
            ]
           ]
          },
          "colorway": [
           "#636efa",
           "#EF553B",
           "#00cc96",
           "#ab63fa",
           "#FFA15A",
           "#19d3f3",
           "#FF6692",
           "#B6E880",
           "#FF97FF",
           "#FECB52"
          ],
          "font": {
           "color": "#2a3f5f"
          },
          "geo": {
           "bgcolor": "white",
           "lakecolor": "white",
           "landcolor": "#E5ECF6",
           "showlakes": true,
           "showland": true,
           "subunitcolor": "white"
          },
          "hoverlabel": {
           "align": "left"
          },
          "hovermode": "closest",
          "mapbox": {
           "style": "light"
          },
          "paper_bgcolor": "white",
          "plot_bgcolor": "#E5ECF6",
          "polar": {
           "angularaxis": {
            "gridcolor": "white",
            "linecolor": "white",
            "ticks": ""
           },
           "bgcolor": "#E5ECF6",
           "radialaxis": {
            "gridcolor": "white",
            "linecolor": "white",
            "ticks": ""
           }
          },
          "scene": {
           "xaxis": {
            "backgroundcolor": "#E5ECF6",
            "gridcolor": "white",
            "gridwidth": 2,
            "linecolor": "white",
            "showbackground": true,
            "ticks": "",
            "zerolinecolor": "white"
           },
           "yaxis": {
            "backgroundcolor": "#E5ECF6",
            "gridcolor": "white",
            "gridwidth": 2,
            "linecolor": "white",
            "showbackground": true,
            "ticks": "",
            "zerolinecolor": "white"
           },
           "zaxis": {
            "backgroundcolor": "#E5ECF6",
            "gridcolor": "white",
            "gridwidth": 2,
            "linecolor": "white",
            "showbackground": true,
            "ticks": "",
            "zerolinecolor": "white"
           }
          },
          "shapedefaults": {
           "line": {
            "color": "#2a3f5f"
           }
          },
          "ternary": {
           "aaxis": {
            "gridcolor": "white",
            "linecolor": "white",
            "ticks": ""
           },
           "baxis": {
            "gridcolor": "white",
            "linecolor": "white",
            "ticks": ""
           },
           "bgcolor": "#E5ECF6",
           "caxis": {
            "gridcolor": "white",
            "linecolor": "white",
            "ticks": ""
           }
          },
          "title": {
           "x": 0.05
          },
          "xaxis": {
           "automargin": true,
           "gridcolor": "white",
           "linecolor": "white",
           "ticks": "",
           "title": {
            "standoff": 15
           },
           "zerolinecolor": "white",
           "zerolinewidth": 2
          },
          "yaxis": {
           "automargin": true,
           "gridcolor": "white",
           "linecolor": "white",
           "ticks": "",
           "title": {
            "standoff": 15
           },
           "zerolinecolor": "white",
           "zerolinewidth": 2
          }
         }
        },
        "title": {
         "text": "Eartquake's Depth each Faults Area"
        },
        "width": 1000,
        "xaxis": {
         "anchor": "y",
         "domain": [
          0,
          1
         ],
         "title": {
          "text": "Total Earthquakes"
         }
        },
        "yaxis": {
         "anchor": "x",
         "categoryorder": "total ascending",
         "domain": [
          0,
          1
         ],
         "title": {
          "text": "Faults"
         }
        }
       }
      },
      "text/html": [
       "<div>                            <div id=\"ba9ee56a-d2dd-4a25-8049-b055dfa3de2f\" class=\"plotly-graph-div\" style=\"height:500px; width:1000px;\"></div>            <script type=\"text/javascript\">                require([\"plotly\"], function(Plotly) {                    window.PLOTLYENV=window.PLOTLYENV || {};                                    if (document.getElementById(\"ba9ee56a-d2dd-4a25-8049-b055dfa3de2f\")) {                    Plotly.newPlot(                        \"ba9ee56a-d2dd-4a25-8049-b055dfa3de2f\",                        [{\"alignmentgroup\":\"True\",\"customdata\":[[\"Gempa Dalam\"],[\"Gempa Dalam\"],[\"Gempa Dalam\"],[\"Gempa Dalam\"],[\"Gempa Dalam\"]],\"hovertemplate\":\"Jenis Kedalaman=%{customdata[0]}<br>Total=%{x}<br>Patahan=%{y}<extra></extra>\",\"legendgroup\":\"Gempa Dalam\",\"marker\":{\"color\":\"#636efa\",\"pattern\":{\"shape\":\"\"}},\"name\":\"Gempa Dalam\",\"offsetgroup\":\"Gempa Dalam\",\"orientation\":\"h\",\"showlegend\":true,\"textposition\":\"auto\",\"x\":[10,14,10,8,17],\"xaxis\":\"x\",\"y\":[\"Patahan Lawanopo\",\"Patahan Matano\",\"Patahan Palu Koro\",\"Patahan Saddang\",\"Patahan Walanae\"],\"yaxis\":\"y\",\"type\":\"bar\"},{\"alignmentgroup\":\"True\",\"customdata\":[[\"Gempa Dangkal\"],[\"Gempa Dangkal\"],[\"Gempa Dangkal\"],[\"Gempa Dangkal\"],[\"Gempa Dangkal\"]],\"hovertemplate\":\"Jenis Kedalaman=%{customdata[0]}<br>Total=%{x}<br>Patahan=%{y}<extra></extra>\",\"legendgroup\":\"Gempa Dangkal\",\"marker\":{\"color\":\"#EF553B\",\"pattern\":{\"shape\":\"\"}},\"name\":\"Gempa Dangkal\",\"offsetgroup\":\"Gempa Dangkal\",\"orientation\":\"h\",\"showlegend\":true,\"textposition\":\"auto\",\"x\":[69,582,1477,1343,195],\"xaxis\":\"x\",\"y\":[\"Patahan Lawanopo\",\"Patahan Matano\",\"Patahan Palu Koro\",\"Patahan Saddang\",\"Patahan Walanae\"],\"yaxis\":\"y\",\"type\":\"bar\"},{\"alignmentgroup\":\"True\",\"customdata\":[[\"Gempa Menengah\"],[\"Gempa Menengah\"],[\"Gempa Menengah\"],[\"Gempa Menengah\"],[\"Gempa Menengah\"]],\"hovertemplate\":\"Jenis Kedalaman=%{customdata[0]}<br>Total=%{x}<br>Patahan=%{y}<extra></extra>\",\"legendgroup\":\"Gempa Menengah\",\"marker\":{\"color\":\"#00cc96\",\"pattern\":{\"shape\":\"\"}},\"name\":\"Gempa Menengah\",\"offsetgroup\":\"Gempa Menengah\",\"orientation\":\"h\",\"showlegend\":true,\"textposition\":\"auto\",\"x\":[11,34,44,9,9],\"xaxis\":\"x\",\"y\":[\"Patahan Lawanopo\",\"Patahan Matano\",\"Patahan Palu Koro\",\"Patahan Saddang\",\"Patahan Walanae\"],\"yaxis\":\"y\",\"type\":\"bar\"}],                        {\"template\":{\"data\":{\"bar\":[{\"error_x\":{\"color\":\"#2a3f5f\"},\"error_y\":{\"color\":\"#2a3f5f\"},\"marker\":{\"line\":{\"color\":\"#E5ECF6\",\"width\":0.5},\"pattern\":{\"fillmode\":\"overlay\",\"size\":10,\"solidity\":0.2}},\"type\":\"bar\"}],\"barpolar\":[{\"marker\":{\"line\":{\"color\":\"#E5ECF6\",\"width\":0.5},\"pattern\":{\"fillmode\":\"overlay\",\"size\":10,\"solidity\":0.2}},\"type\":\"barpolar\"}],\"carpet\":[{\"aaxis\":{\"endlinecolor\":\"#2a3f5f\",\"gridcolor\":\"white\",\"linecolor\":\"white\",\"minorgridcolor\":\"white\",\"startlinecolor\":\"#2a3f5f\"},\"baxis\":{\"endlinecolor\":\"#2a3f5f\",\"gridcolor\":\"white\",\"linecolor\":\"white\",\"minorgridcolor\":\"white\",\"startlinecolor\":\"#2a3f5f\"},\"type\":\"carpet\"}],\"choropleth\":[{\"colorbar\":{\"outlinewidth\":0,\"ticks\":\"\"},\"type\":\"choropleth\"}],\"contour\":[{\"colorbar\":{\"outlinewidth\":0,\"ticks\":\"\"},\"colorscale\":[[0.0,\"#0d0887\"],[0.1111111111111111,\"#46039f\"],[0.2222222222222222,\"#7201a8\"],[0.3333333333333333,\"#9c179e\"],[0.4444444444444444,\"#bd3786\"],[0.5555555555555556,\"#d8576b\"],[0.6666666666666666,\"#ed7953\"],[0.7777777777777778,\"#fb9f3a\"],[0.8888888888888888,\"#fdca26\"],[1.0,\"#f0f921\"]],\"type\":\"contour\"}],\"contourcarpet\":[{\"colorbar\":{\"outlinewidth\":0,\"ticks\":\"\"},\"type\":\"contourcarpet\"}],\"heatmap\":[{\"colorbar\":{\"outlinewidth\":0,\"ticks\":\"\"},\"colorscale\":[[0.0,\"#0d0887\"],[0.1111111111111111,\"#46039f\"],[0.2222222222222222,\"#7201a8\"],[0.3333333333333333,\"#9c179e\"],[0.4444444444444444,\"#bd3786\"],[0.5555555555555556,\"#d8576b\"],[0.6666666666666666,\"#ed7953\"],[0.7777777777777778,\"#fb9f3a\"],[0.8888888888888888,\"#fdca26\"],[1.0,\"#f0f921\"]],\"type\":\"heatmap\"}],\"heatmapgl\":[{\"colorbar\":{\"outlinewidth\":0,\"ticks\":\"\"},\"colorscale\":[[0.0,\"#0d0887\"],[0.1111111111111111,\"#46039f\"],[0.2222222222222222,\"#7201a8\"],[0.3333333333333333,\"#9c179e\"],[0.4444444444444444,\"#bd3786\"],[0.5555555555555556,\"#d8576b\"],[0.6666666666666666,\"#ed7953\"],[0.7777777777777778,\"#fb9f3a\"],[0.8888888888888888,\"#fdca26\"],[1.0,\"#f0f921\"]],\"type\":\"heatmapgl\"}],\"histogram\":[{\"marker\":{\"pattern\":{\"fillmode\":\"overlay\",\"size\":10,\"solidity\":0.2}},\"type\":\"histogram\"}],\"histogram2d\":[{\"colorbar\":{\"outlinewidth\":0,\"ticks\":\"\"},\"colorscale\":[[0.0,\"#0d0887\"],[0.1111111111111111,\"#46039f\"],[0.2222222222222222,\"#7201a8\"],[0.3333333333333333,\"#9c179e\"],[0.4444444444444444,\"#bd3786\"],[0.5555555555555556,\"#d8576b\"],[0.6666666666666666,\"#ed7953\"],[0.7777777777777778,\"#fb9f3a\"],[0.8888888888888888,\"#fdca26\"],[1.0,\"#f0f921\"]],\"type\":\"histogram2d\"}],\"histogram2dcontour\":[{\"colorbar\":{\"outlinewidth\":0,\"ticks\":\"\"},\"colorscale\":[[0.0,\"#0d0887\"],[0.1111111111111111,\"#46039f\"],[0.2222222222222222,\"#7201a8\"],[0.3333333333333333,\"#9c179e\"],[0.4444444444444444,\"#bd3786\"],[0.5555555555555556,\"#d8576b\"],[0.6666666666666666,\"#ed7953\"],[0.7777777777777778,\"#fb9f3a\"],[0.8888888888888888,\"#fdca26\"],[1.0,\"#f0f921\"]],\"type\":\"histogram2dcontour\"}],\"mesh3d\":[{\"colorbar\":{\"outlinewidth\":0,\"ticks\":\"\"},\"type\":\"mesh3d\"}],\"parcoords\":[{\"line\":{\"colorbar\":{\"outlinewidth\":0,\"ticks\":\"\"}},\"type\":\"parcoords\"}],\"pie\":[{\"automargin\":true,\"type\":\"pie\"}],\"scatter\":[{\"marker\":{\"colorbar\":{\"outlinewidth\":0,\"ticks\":\"\"}},\"type\":\"scatter\"}],\"scatter3d\":[{\"line\":{\"colorbar\":{\"outlinewidth\":0,\"ticks\":\"\"}},\"marker\":{\"colorbar\":{\"outlinewidth\":0,\"ticks\":\"\"}},\"type\":\"scatter3d\"}],\"scattercarpet\":[{\"marker\":{\"colorbar\":{\"outlinewidth\":0,\"ticks\":\"\"}},\"type\":\"scattercarpet\"}],\"scattergeo\":[{\"marker\":{\"colorbar\":{\"outlinewidth\":0,\"ticks\":\"\"}},\"type\":\"scattergeo\"}],\"scattergl\":[{\"marker\":{\"colorbar\":{\"outlinewidth\":0,\"ticks\":\"\"}},\"type\":\"scattergl\"}],\"scattermapbox\":[{\"marker\":{\"colorbar\":{\"outlinewidth\":0,\"ticks\":\"\"}},\"type\":\"scattermapbox\"}],\"scatterpolar\":[{\"marker\":{\"colorbar\":{\"outlinewidth\":0,\"ticks\":\"\"}},\"type\":\"scatterpolar\"}],\"scatterpolargl\":[{\"marker\":{\"colorbar\":{\"outlinewidth\":0,\"ticks\":\"\"}},\"type\":\"scatterpolargl\"}],\"scatterternary\":[{\"marker\":{\"colorbar\":{\"outlinewidth\":0,\"ticks\":\"\"}},\"type\":\"scatterternary\"}],\"surface\":[{\"colorbar\":{\"outlinewidth\":0,\"ticks\":\"\"},\"colorscale\":[[0.0,\"#0d0887\"],[0.1111111111111111,\"#46039f\"],[0.2222222222222222,\"#7201a8\"],[0.3333333333333333,\"#9c179e\"],[0.4444444444444444,\"#bd3786\"],[0.5555555555555556,\"#d8576b\"],[0.6666666666666666,\"#ed7953\"],[0.7777777777777778,\"#fb9f3a\"],[0.8888888888888888,\"#fdca26\"],[1.0,\"#f0f921\"]],\"type\":\"surface\"}],\"table\":[{\"cells\":{\"fill\":{\"color\":\"#EBF0F8\"},\"line\":{\"color\":\"white\"}},\"header\":{\"fill\":{\"color\":\"#C8D4E3\"},\"line\":{\"color\":\"white\"}},\"type\":\"table\"}]},\"layout\":{\"annotationdefaults\":{\"arrowcolor\":\"#2a3f5f\",\"arrowhead\":0,\"arrowwidth\":1},\"autotypenumbers\":\"strict\",\"coloraxis\":{\"colorbar\":{\"outlinewidth\":0,\"ticks\":\"\"}},\"colorscale\":{\"diverging\":[[0,\"#8e0152\"],[0.1,\"#c51b7d\"],[0.2,\"#de77ae\"],[0.3,\"#f1b6da\"],[0.4,\"#fde0ef\"],[0.5,\"#f7f7f7\"],[0.6,\"#e6f5d0\"],[0.7,\"#b8e186\"],[0.8,\"#7fbc41\"],[0.9,\"#4d9221\"],[1,\"#276419\"]],\"sequential\":[[0.0,\"#0d0887\"],[0.1111111111111111,\"#46039f\"],[0.2222222222222222,\"#7201a8\"],[0.3333333333333333,\"#9c179e\"],[0.4444444444444444,\"#bd3786\"],[0.5555555555555556,\"#d8576b\"],[0.6666666666666666,\"#ed7953\"],[0.7777777777777778,\"#fb9f3a\"],[0.8888888888888888,\"#fdca26\"],[1.0,\"#f0f921\"]],\"sequentialminus\":[[0.0,\"#0d0887\"],[0.1111111111111111,\"#46039f\"],[0.2222222222222222,\"#7201a8\"],[0.3333333333333333,\"#9c179e\"],[0.4444444444444444,\"#bd3786\"],[0.5555555555555556,\"#d8576b\"],[0.6666666666666666,\"#ed7953\"],[0.7777777777777778,\"#fb9f3a\"],[0.8888888888888888,\"#fdca26\"],[1.0,\"#f0f921\"]]},\"colorway\":[\"#636efa\",\"#EF553B\",\"#00cc96\",\"#ab63fa\",\"#FFA15A\",\"#19d3f3\",\"#FF6692\",\"#B6E880\",\"#FF97FF\",\"#FECB52\"],\"font\":{\"color\":\"#2a3f5f\"},\"geo\":{\"bgcolor\":\"white\",\"lakecolor\":\"white\",\"landcolor\":\"#E5ECF6\",\"showlakes\":true,\"showland\":true,\"subunitcolor\":\"white\"},\"hoverlabel\":{\"align\":\"left\"},\"hovermode\":\"closest\",\"mapbox\":{\"style\":\"light\"},\"paper_bgcolor\":\"white\",\"plot_bgcolor\":\"#E5ECF6\",\"polar\":{\"angularaxis\":{\"gridcolor\":\"white\",\"linecolor\":\"white\",\"ticks\":\"\"},\"bgcolor\":\"#E5ECF6\",\"radialaxis\":{\"gridcolor\":\"white\",\"linecolor\":\"white\",\"ticks\":\"\"}},\"scene\":{\"xaxis\":{\"backgroundcolor\":\"#E5ECF6\",\"gridcolor\":\"white\",\"gridwidth\":2,\"linecolor\":\"white\",\"showbackground\":true,\"ticks\":\"\",\"zerolinecolor\":\"white\"},\"yaxis\":{\"backgroundcolor\":\"#E5ECF6\",\"gridcolor\":\"white\",\"gridwidth\":2,\"linecolor\":\"white\",\"showbackground\":true,\"ticks\":\"\",\"zerolinecolor\":\"white\"},\"zaxis\":{\"backgroundcolor\":\"#E5ECF6\",\"gridcolor\":\"white\",\"gridwidth\":2,\"linecolor\":\"white\",\"showbackground\":true,\"ticks\":\"\",\"zerolinecolor\":\"white\"}},\"shapedefaults\":{\"line\":{\"color\":\"#2a3f5f\"}},\"ternary\":{\"aaxis\":{\"gridcolor\":\"white\",\"linecolor\":\"white\",\"ticks\":\"\"},\"baxis\":{\"gridcolor\":\"white\",\"linecolor\":\"white\",\"ticks\":\"\"},\"bgcolor\":\"#E5ECF6\",\"caxis\":{\"gridcolor\":\"white\",\"linecolor\":\"white\",\"ticks\":\"\"}},\"title\":{\"x\":0.05},\"xaxis\":{\"automargin\":true,\"gridcolor\":\"white\",\"linecolor\":\"white\",\"ticks\":\"\",\"title\":{\"standoff\":15},\"zerolinecolor\":\"white\",\"zerolinewidth\":2},\"yaxis\":{\"automargin\":true,\"gridcolor\":\"white\",\"linecolor\":\"white\",\"ticks\":\"\",\"title\":{\"standoff\":15},\"zerolinecolor\":\"white\",\"zerolinewidth\":2}}},\"xaxis\":{\"anchor\":\"y\",\"domain\":[0.0,1.0],\"title\":{\"text\":\"Total Earthquakes\"}},\"yaxis\":{\"anchor\":\"x\",\"domain\":[0.0,1.0],\"title\":{\"text\":\"Faults\"},\"categoryorder\":\"total ascending\"},\"legend\":{\"title\":{\"text\":\"Jenis Kedalaman\"},\"tracegroupgap\":0},\"margin\":{\"t\":60},\"barmode\":\"relative\",\"height\":500,\"width\":1000,\"autosize\":false,\"title\":{\"text\":\"Eartquake's Depth each Faults Area\"}},                        {\"responsive\": true}                    ).then(function(){\n",
       "                            \n",
       "var gd = document.getElementById('ba9ee56a-d2dd-4a25-8049-b055dfa3de2f');\n",
       "var x = new MutationObserver(function (mutations, observer) {{\n",
       "        var display = window.getComputedStyle(gd).display;\n",
       "        if (!display || display === 'none') {{\n",
       "            console.log([gd, 'removed!']);\n",
       "            Plotly.purge(gd);\n",
       "            observer.disconnect();\n",
       "        }}\n",
       "}});\n",
       "\n",
       "// Listen for the removal of the full notebook cells\n",
       "var notebookContainer = gd.closest('#notebook-container');\n",
       "if (notebookContainer) {{\n",
       "    x.observe(notebookContainer, {childList: true});\n",
       "}}\n",
       "\n",
       "// Listen for the clearing of the current output cell\n",
       "var outputEl = gd.closest('.output');\n",
       "if (outputEl) {{\n",
       "    x.observe(outputEl, {childList: true});\n",
       "}}\n",
       "\n",
       "                        })                };                });            </script>        </div>"
      ]
     },
     "metadata": {},
     "output_type": "display_data"
    }
   ],
   "source": [
    "stackbar_h(df_jenisKedalaman, y='Patahan', x='Total',\n",
    "           hover_data=['Jenis Kedalaman', 'Total'], color='Jenis Kedalaman',\n",
    "           labels={'Jenis Kedalaman':'Jenis Kedalaman'}, width=1000, height=500,\n",
    "           title=\"Eartquake's Depth each Faults Area\",\n",
    "           xaxis='Total Earthquakes',\n",
    "           yaxis='Faults',\n",
    "           )"
   ]
  },
  {
   "cell_type": "markdown",
   "metadata": {},
   "source": [
    "***\n",
    "**Observation :**\n",
    "\n",
    "- Berdasarkan \n",
    "\n",
    "***"
   ]
  },
  {
   "cell_type": "markdown",
   "metadata": {},
   "source": [
    "***\n",
    "# **Modeling & Evaluation**\n",
    "\n",
    "***"
   ]
  },
  {
   "cell_type": "code",
   "execution_count": 29,
   "metadata": {},
   "outputs": [
    {
     "data": {
      "text/html": [
       "<div>\n",
       "<style scoped>\n",
       "    .dataframe tbody tr th:only-of-type {\n",
       "        vertical-align: middle;\n",
       "    }\n",
       "\n",
       "    .dataframe tbody tr th {\n",
       "        vertical-align: top;\n",
       "    }\n",
       "\n",
       "    .dataframe thead th {\n",
       "        text-align: right;\n",
       "    }\n",
       "</style>\n",
       "<table border=\"1\" class=\"dataframe\">\n",
       "  <thead>\n",
       "    <tr style=\"text-align: right;\">\n",
       "      <th></th>\n",
       "      <th>Date</th>\n",
       "      <th>Mag</th>\n",
       "      <th>Lattitude</th>\n",
       "      <th>Longitude</th>\n",
       "      <th>Depth</th>\n",
       "      <th>KETERANGAN_LOKASI</th>\n",
       "      <th>Patahan</th>\n",
       "      <th>Jenis Gempa</th>\n",
       "      <th>Jenis Kedalaman</th>\n",
       "    </tr>\n",
       "  </thead>\n",
       "  <tbody>\n",
       "    <tr>\n",
       "      <th>0</th>\n",
       "      <td>2015-01-01</td>\n",
       "      <td>3.4</td>\n",
       "      <td>-1.99</td>\n",
       "      <td>120.41</td>\n",
       "      <td>17</td>\n",
       "      <td>47 km BaratLaut Mangkutana</td>\n",
       "      <td>Patahan Matano</td>\n",
       "      <td>Gempa Sedang</td>\n",
       "      <td>Gempa Dangkal</td>\n",
       "    </tr>\n",
       "    <tr>\n",
       "      <th>1</th>\n",
       "      <td>2015-01-01</td>\n",
       "      <td>3.3</td>\n",
       "      <td>-1.88</td>\n",
       "      <td>120.30</td>\n",
       "      <td>24</td>\n",
       "      <td>60 km Tenggara Kulawi</td>\n",
       "      <td>Patahan Palu Koro</td>\n",
       "      <td>Gempa Sedang</td>\n",
       "      <td>Gempa Dangkal</td>\n",
       "    </tr>\n",
       "    <tr>\n",
       "      <th>2</th>\n",
       "      <td>2015-02-01</td>\n",
       "      <td>4.8</td>\n",
       "      <td>-2.22</td>\n",
       "      <td>120.87</td>\n",
       "      <td>17</td>\n",
       "      <td>34 km TimurLaut Mangkutana</td>\n",
       "      <td>Patahan Matano</td>\n",
       "      <td>Gempa Sedang</td>\n",
       "      <td>Gempa Dangkal</td>\n",
       "    </tr>\n",
       "    <tr>\n",
       "      <th>3</th>\n",
       "      <td>2015-02-01</td>\n",
       "      <td>4.5</td>\n",
       "      <td>-2.21</td>\n",
       "      <td>120.87</td>\n",
       "      <td>12</td>\n",
       "      <td>35 km TimurLaut Mangkutana</td>\n",
       "      <td>Patahan Matano</td>\n",
       "      <td>Gempa Sedang</td>\n",
       "      <td>Gempa Dangkal</td>\n",
       "    </tr>\n",
       "    <tr>\n",
       "      <th>4</th>\n",
       "      <td>2015-02-01</td>\n",
       "      <td>4.1</td>\n",
       "      <td>-2.17</td>\n",
       "      <td>120.77</td>\n",
       "      <td>10</td>\n",
       "      <td>29 km TimurLaut Mangkutana</td>\n",
       "      <td>Patahan Matano</td>\n",
       "      <td>Gempa Sedang</td>\n",
       "      <td>Gempa Dangkal</td>\n",
       "    </tr>\n",
       "    <tr>\n",
       "      <th>...</th>\n",
       "      <td>...</td>\n",
       "      <td>...</td>\n",
       "      <td>...</td>\n",
       "      <td>...</td>\n",
       "      <td>...</td>\n",
       "      <td>...</td>\n",
       "      <td>...</td>\n",
       "      <td>...</td>\n",
       "      <td>...</td>\n",
       "    </tr>\n",
       "    <tr>\n",
       "      <th>3830</th>\n",
       "      <td>2019-12-30</td>\n",
       "      <td>2.4</td>\n",
       "      <td>-2.86</td>\n",
       "      <td>119.52</td>\n",
       "      <td>11</td>\n",
       "      <td>18 km TimurLaut Pana</td>\n",
       "      <td>Patahan Saddang</td>\n",
       "      <td>Gempa Kecil</td>\n",
       "      <td>Gempa Dangkal</td>\n",
       "    </tr>\n",
       "    <tr>\n",
       "      <th>3831</th>\n",
       "      <td>2019-12-30</td>\n",
       "      <td>2.3</td>\n",
       "      <td>-2.85</td>\n",
       "      <td>119.48</td>\n",
       "      <td>10</td>\n",
       "      <td>19 km BaratLaut Pana</td>\n",
       "      <td>Patahan Saddang</td>\n",
       "      <td>Gempa Kecil</td>\n",
       "      <td>Gempa Dangkal</td>\n",
       "    </tr>\n",
       "    <tr>\n",
       "      <th>3832</th>\n",
       "      <td>2019-12-30</td>\n",
       "      <td>3.3</td>\n",
       "      <td>-1.50</td>\n",
       "      <td>120.07</td>\n",
       "      <td>10</td>\n",
       "      <td>11 km Tenggara Kulawi</td>\n",
       "      <td>Patahan Palu Koro</td>\n",
       "      <td>Gempa Sedang</td>\n",
       "      <td>Gempa Dangkal</td>\n",
       "    </tr>\n",
       "    <tr>\n",
       "      <th>3833</th>\n",
       "      <td>2019-12-31</td>\n",
       "      <td>3.2</td>\n",
       "      <td>-2.37</td>\n",
       "      <td>121.40</td>\n",
       "      <td>10</td>\n",
       "      <td>15 km Tenggara Lembo</td>\n",
       "      <td>Patahan Matano</td>\n",
       "      <td>Gempa Sedang</td>\n",
       "      <td>Gempa Dangkal</td>\n",
       "    </tr>\n",
       "    <tr>\n",
       "      <th>3834</th>\n",
       "      <td>2019-12-31</td>\n",
       "      <td>3.2</td>\n",
       "      <td>-2.34</td>\n",
       "      <td>121.19</td>\n",
       "      <td>10</td>\n",
       "      <td>17 km BaratDaya Lembo</td>\n",
       "      <td>Patahan Matano</td>\n",
       "      <td>Gempa Sedang</td>\n",
       "      <td>Gempa Dangkal</td>\n",
       "    </tr>\n",
       "  </tbody>\n",
       "</table>\n",
       "<p>3832 rows × 9 columns</p>\n",
       "</div>"
      ],
      "text/plain": [
       "           Date  Mag  Lattitude  Longitude  Depth           KETERANGAN_LOKASI  \\\n",
       "0    2015-01-01  3.4      -1.99     120.41     17  47 km BaratLaut Mangkutana   \n",
       "1    2015-01-01  3.3      -1.88     120.30     24       60 km Tenggara Kulawi   \n",
       "2    2015-02-01  4.8      -2.22     120.87     17  34 km TimurLaut Mangkutana   \n",
       "3    2015-02-01  4.5      -2.21     120.87     12  35 km TimurLaut Mangkutana   \n",
       "4    2015-02-01  4.1      -2.17     120.77     10  29 km TimurLaut Mangkutana   \n",
       "...         ...  ...        ...        ...    ...                         ...   \n",
       "3830 2019-12-30  2.4      -2.86     119.52     11        18 km TimurLaut Pana   \n",
       "3831 2019-12-30  2.3      -2.85     119.48     10        19 km BaratLaut Pana   \n",
       "3832 2019-12-30  3.3      -1.50     120.07     10       11 km Tenggara Kulawi   \n",
       "3833 2019-12-31  3.2      -2.37     121.40     10        15 km Tenggara Lembo   \n",
       "3834 2019-12-31  3.2      -2.34     121.19     10       17 km BaratDaya Lembo   \n",
       "\n",
       "                Patahan   Jenis Gempa Jenis Kedalaman  \n",
       "0        Patahan Matano  Gempa Sedang   Gempa Dangkal  \n",
       "1     Patahan Palu Koro  Gempa Sedang   Gempa Dangkal  \n",
       "2        Patahan Matano  Gempa Sedang   Gempa Dangkal  \n",
       "3        Patahan Matano  Gempa Sedang   Gempa Dangkal  \n",
       "4        Patahan Matano  Gempa Sedang   Gempa Dangkal  \n",
       "...                 ...           ...             ...  \n",
       "3830    Patahan Saddang   Gempa Kecil   Gempa Dangkal  \n",
       "3831    Patahan Saddang   Gempa Kecil   Gempa Dangkal  \n",
       "3832  Patahan Palu Koro  Gempa Sedang   Gempa Dangkal  \n",
       "3833     Patahan Matano  Gempa Sedang   Gempa Dangkal  \n",
       "3834     Patahan Matano  Gempa Sedang   Gempa Dangkal  \n",
       "\n",
       "[3832 rows x 9 columns]"
      ]
     },
     "execution_count": 29,
     "metadata": {},
     "output_type": "execute_result"
    }
   ],
   "source": [
    "df"
   ]
  },
  {
   "cell_type": "code",
   "execution_count": 57,
   "metadata": {},
   "outputs": [],
   "source": [
    "# Define X & y\n",
    "\n",
    "X_train = df[['Lattitude', 'Longitude']]\n",
    "y_train = df[['Patahan']]\n",
    "X_test = df_test[['Lattitude', 'Longitude']]\n",
    "y_test = df_test[['Patahan']]\n"
   ]
  },
  {
   "cell_type": "markdown",
   "metadata": {},
   "source": [
    "### **Choose Factor K**"
   ]
  },
  {
   "cell_type": "code",
   "execution_count": 61,
   "metadata": {},
   "outputs": [],
   "source": [
    "k = range(1,30,1)\n",
    "testing_accuracies = []\n",
    "training_accuracies = []\n",
    "score = 0\n",
    "\n",
    "for i in k:\n",
    "  knn = KNeighborsClassifier(n_neighbors = i)\n",
    "  knn.fit(X_train,y_train)\n",
    "\n",
    "  y_predict_train = knn.predict(X_train)\n",
    "  training_accuracies.append(accuracy_score(y_train,y_predict_train))\n",
    "\n",
    "  y_predict_test = knn.predict(X_test)\n",
    "  acc_score = accuracy_score(y_test,y_predict_test)\n",
    "  testing_accuracies.append(acc_score)\n",
    "\n",
    "  if score < acc_score:\n",
    "    score = acc_score\n",
    "    best_k = i"
   ]
  },
  {
   "cell_type": "code",
   "execution_count": 62,
   "metadata": {},
   "outputs": [
    {
     "data": {
      "image/png": "[encoded data removed]",
      "text/plain": [
       "<Figure size 720x504 with 1 Axes>"
      ]
     },
     "metadata": {
      "needs_background": "light"
     },
     "output_type": "display_data"
    }
   ],
   "source": [
    "plt.figure(figsize = (10,7))\n",
    "sns.lineplot(k,testing_accuracies)\n",
    "sns.scatterplot(k,testing_accuracies)\n",
    "sns.lineplot(k,training_accuracies)\n",
    "sns.scatterplot(k,training_accuracies)\n",
    "plt.legend(['testing accuracy','training accuracy'])\n",
    "plt.xticks(list(k));"
   ]
  },
  {
   "cell_type": "code",
   "execution_count": 63,
   "metadata": {},
   "outputs": [
    {
     "name": "stdout",
     "output_type": "stream",
     "text": [
      "best k: 1\n",
      "accuracy: 0.9927007299270073\n"
     ]
    }
   ],
   "source": [
    "print('best k:', best_k)\n",
    "print('accuracy:', score)"
   ]
  },
  {
   "cell_type": "code",
   "execution_count": 64,
   "metadata": {},
   "outputs": [
    {
     "data": {
      "text/html": [
       "<div>\n",
       "<style scoped>\n",
       "    .dataframe tbody tr th:only-of-type {\n",
       "        vertical-align: middle;\n",
       "    }\n",
       "\n",
       "    .dataframe tbody tr th {\n",
       "        vertical-align: top;\n",
       "    }\n",
       "\n",
       "    .dataframe thead th {\n",
       "        text-align: right;\n",
       "    }\n",
       "</style>\n",
       "<table border=\"1\" class=\"dataframe\">\n",
       "  <thead>\n",
       "    <tr style=\"text-align: right;\">\n",
       "      <th></th>\n",
       "      <th>K</th>\n",
       "      <th>Test_acc</th>\n",
       "      <th>Train_acc</th>\n",
       "      <th>difference</th>\n",
       "    </tr>\n",
       "  </thead>\n",
       "  <tbody>\n",
       "    <tr>\n",
       "      <th>0</th>\n",
       "      <td>1.0</td>\n",
       "      <td>0.992701</td>\n",
       "      <td>1.000000</td>\n",
       "      <td>0.007299</td>\n",
       "    </tr>\n",
       "    <tr>\n",
       "      <th>1</th>\n",
       "      <td>2.0</td>\n",
       "      <td>0.991484</td>\n",
       "      <td>0.997651</td>\n",
       "      <td>0.006167</td>\n",
       "    </tr>\n",
       "    <tr>\n",
       "      <th>2</th>\n",
       "      <td>3.0</td>\n",
       "      <td>0.992701</td>\n",
       "      <td>0.998173</td>\n",
       "      <td>0.005473</td>\n",
       "    </tr>\n",
       "    <tr>\n",
       "      <th>3</th>\n",
       "      <td>4.0</td>\n",
       "      <td>0.989051</td>\n",
       "      <td>0.996347</td>\n",
       "      <td>0.007295</td>\n",
       "    </tr>\n",
       "    <tr>\n",
       "      <th>4</th>\n",
       "      <td>5.0</td>\n",
       "      <td>0.991484</td>\n",
       "      <td>0.997390</td>\n",
       "      <td>0.005906</td>\n",
       "    </tr>\n",
       "    <tr>\n",
       "      <th>5</th>\n",
       "      <td>6.0</td>\n",
       "      <td>0.987835</td>\n",
       "      <td>0.996347</td>\n",
       "      <td>0.008512</td>\n",
       "    </tr>\n",
       "    <tr>\n",
       "      <th>6</th>\n",
       "      <td>7.0</td>\n",
       "      <td>0.986618</td>\n",
       "      <td>0.996608</td>\n",
       "      <td>0.009990</td>\n",
       "    </tr>\n",
       "    <tr>\n",
       "      <th>7</th>\n",
       "      <td>8.0</td>\n",
       "      <td>0.986618</td>\n",
       "      <td>0.995303</td>\n",
       "      <td>0.008685</td>\n",
       "    </tr>\n",
       "    <tr>\n",
       "      <th>8</th>\n",
       "      <td>9.0</td>\n",
       "      <td>0.985401</td>\n",
       "      <td>0.995303</td>\n",
       "      <td>0.009901</td>\n",
       "    </tr>\n",
       "    <tr>\n",
       "      <th>9</th>\n",
       "      <td>10.0</td>\n",
       "      <td>0.985401</td>\n",
       "      <td>0.994520</td>\n",
       "      <td>0.009118</td>\n",
       "    </tr>\n",
       "    <tr>\n",
       "      <th>10</th>\n",
       "      <td>11.0</td>\n",
       "      <td>0.986618</td>\n",
       "      <td>0.993737</td>\n",
       "      <td>0.007119</td>\n",
       "    </tr>\n",
       "    <tr>\n",
       "      <th>11</th>\n",
       "      <td>12.0</td>\n",
       "      <td>0.985401</td>\n",
       "      <td>0.993737</td>\n",
       "      <td>0.008335</td>\n",
       "    </tr>\n",
       "    <tr>\n",
       "      <th>12</th>\n",
       "      <td>13.0</td>\n",
       "      <td>0.986618</td>\n",
       "      <td>0.992693</td>\n",
       "      <td>0.006075</td>\n",
       "    </tr>\n",
       "    <tr>\n",
       "      <th>13</th>\n",
       "      <td>14.0</td>\n",
       "      <td>0.986618</td>\n",
       "      <td>0.992432</td>\n",
       "      <td>0.005814</td>\n",
       "    </tr>\n",
       "    <tr>\n",
       "      <th>14</th>\n",
       "      <td>15.0</td>\n",
       "      <td>0.987835</td>\n",
       "      <td>0.991388</td>\n",
       "      <td>0.003554</td>\n",
       "    </tr>\n",
       "    <tr>\n",
       "      <th>15</th>\n",
       "      <td>16.0</td>\n",
       "      <td>0.986618</td>\n",
       "      <td>0.992171</td>\n",
       "      <td>0.005553</td>\n",
       "    </tr>\n",
       "    <tr>\n",
       "      <th>16</th>\n",
       "      <td>17.0</td>\n",
       "      <td>0.985401</td>\n",
       "      <td>0.991127</td>\n",
       "      <td>0.005726</td>\n",
       "    </tr>\n",
       "    <tr>\n",
       "      <th>17</th>\n",
       "      <td>18.0</td>\n",
       "      <td>0.984185</td>\n",
       "      <td>0.991127</td>\n",
       "      <td>0.006942</td>\n",
       "    </tr>\n",
       "    <tr>\n",
       "      <th>18</th>\n",
       "      <td>19.0</td>\n",
       "      <td>0.984185</td>\n",
       "      <td>0.990344</td>\n",
       "      <td>0.006160</td>\n",
       "    </tr>\n",
       "    <tr>\n",
       "      <th>19</th>\n",
       "      <td>20.0</td>\n",
       "      <td>0.985401</td>\n",
       "      <td>0.989040</td>\n",
       "      <td>0.003638</td>\n",
       "    </tr>\n",
       "    <tr>\n",
       "      <th>20</th>\n",
       "      <td>21.0</td>\n",
       "      <td>0.984185</td>\n",
       "      <td>0.988779</td>\n",
       "      <td>0.004594</td>\n",
       "    </tr>\n",
       "    <tr>\n",
       "      <th>21</th>\n",
       "      <td>22.0</td>\n",
       "      <td>0.985401</td>\n",
       "      <td>0.988518</td>\n",
       "      <td>0.003116</td>\n",
       "    </tr>\n",
       "    <tr>\n",
       "      <th>22</th>\n",
       "      <td>23.0</td>\n",
       "      <td>0.984185</td>\n",
       "      <td>0.987735</td>\n",
       "      <td>0.003550</td>\n",
       "    </tr>\n",
       "    <tr>\n",
       "      <th>23</th>\n",
       "      <td>24.0</td>\n",
       "      <td>0.982968</td>\n",
       "      <td>0.987474</td>\n",
       "      <td>0.004506</td>\n",
       "    </tr>\n",
       "    <tr>\n",
       "      <th>24</th>\n",
       "      <td>25.0</td>\n",
       "      <td>0.980535</td>\n",
       "      <td>0.987213</td>\n",
       "      <td>0.006678</td>\n",
       "    </tr>\n",
       "    <tr>\n",
       "      <th>25</th>\n",
       "      <td>26.0</td>\n",
       "      <td>0.979319</td>\n",
       "      <td>0.986691</td>\n",
       "      <td>0.007372</td>\n",
       "    </tr>\n",
       "    <tr>\n",
       "      <th>26</th>\n",
       "      <td>27.0</td>\n",
       "      <td>0.980535</td>\n",
       "      <td>0.986169</td>\n",
       "      <td>0.005634</td>\n",
       "    </tr>\n",
       "    <tr>\n",
       "      <th>27</th>\n",
       "      <td>28.0</td>\n",
       "      <td>0.979319</td>\n",
       "      <td>0.985386</td>\n",
       "      <td>0.006067</td>\n",
       "    </tr>\n",
       "    <tr>\n",
       "      <th>28</th>\n",
       "      <td>29.0</td>\n",
       "      <td>0.978102</td>\n",
       "      <td>0.985647</td>\n",
       "      <td>0.007545</td>\n",
       "    </tr>\n",
       "  </tbody>\n",
       "</table>\n",
       "</div>"
      ],
      "text/plain": [
       "       K  Test_acc  Train_acc  difference\n",
       "0    1.0  0.992701   1.000000    0.007299\n",
       "1    2.0  0.991484   0.997651    0.006167\n",
       "2    3.0  0.992701   0.998173    0.005473\n",
       "3    4.0  0.989051   0.996347    0.007295\n",
       "4    5.0  0.991484   0.997390    0.005906\n",
       "5    6.0  0.987835   0.996347    0.008512\n",
       "6    7.0  0.986618   0.996608    0.009990\n",
       "7    8.0  0.986618   0.995303    0.008685\n",
       "8    9.0  0.985401   0.995303    0.009901\n",
       "9   10.0  0.985401   0.994520    0.009118\n",
       "10  11.0  0.986618   0.993737    0.007119\n",
       "11  12.0  0.985401   0.993737    0.008335\n",
       "12  13.0  0.986618   0.992693    0.006075\n",
       "13  14.0  0.986618   0.992432    0.005814\n",
       "14  15.0  0.987835   0.991388    0.003554\n",
       "15  16.0  0.986618   0.992171    0.005553\n",
       "16  17.0  0.985401   0.991127    0.005726\n",
       "17  18.0  0.984185   0.991127    0.006942\n",
       "18  19.0  0.984185   0.990344    0.006160\n",
       "19  20.0  0.985401   0.989040    0.003638\n",
       "20  21.0  0.984185   0.988779    0.004594\n",
       "21  22.0  0.985401   0.988518    0.003116\n",
       "22  23.0  0.984185   0.987735    0.003550\n",
       "23  24.0  0.982968   0.987474    0.004506\n",
       "24  25.0  0.980535   0.987213    0.006678\n",
       "25  26.0  0.979319   0.986691    0.007372\n",
       "26  27.0  0.980535   0.986169    0.005634\n",
       "27  28.0  0.979319   0.985386    0.006067\n",
       "28  29.0  0.978102   0.985647    0.007545"
      ]
     },
     "execution_count": 64,
     "metadata": {},
     "output_type": "execute_result"
    }
   ],
   "source": [
    "list_k = pd.DataFrame(data=[k, testing_accuracies, training_accuracies]).T\n",
    "list_k.rename(columns={0:'K', 1:'Test_acc', 2:'Train_acc'}, inplace=True)\n",
    "list_k['difference'] = list_k['Train_acc'] - list_k['Test_acc']\n",
    "list_k"
   ]
  },
  {
   "cell_type": "markdown",
   "metadata": {},
   "source": [
    "***\n",
    "**Observations :**\n",
    "* Berdasarkan hasil diatas, kita dapat memilih nilai K yang lebih sesuai dan yang terbaik untuk model ini adalah K=3.\n",
    "***"
   ]
  },
  {
   "cell_type": "markdown",
   "metadata": {},
   "source": [
    "### **Evaluation : K-Fold Cross Validation**"
   ]
  },
  {
   "cell_type": "code",
   "execution_count": 168,
   "metadata": {},
   "outputs": [],
   "source": [
    "eval = pd.DataFrame()\n",
    "\n",
    "for i in range(1,30,2):\n",
    "    kf = KFold(n_splits=10) \n",
    "    estimator = KNeighborsClassifier(n_neighbors = i)\n",
    "    cross_val = cross_validate(estimator, X_train, y_train, cv=kf)\n",
    "    hasil = pd.DataFrame(cross_val).describe().iloc[[1]].rename(index={'mean':i}, columns={'fit_time': 'mean_fit_time', 'score_time':'mean_score_time', 'test_score':'mean_test_score'})\n",
    "    eval = eval.append(hasil)"
   ]
  },
  {
   "cell_type": "code",
   "execution_count": 169,
   "metadata": {},
   "outputs": [
    {
     "data": {
      "text/html": [
       "<div>\n",
       "<style scoped>\n",
       "    .dataframe tbody tr th:only-of-type {\n",
       "        vertical-align: middle;\n",
       "    }\n",
       "\n",
       "    .dataframe tbody tr th {\n",
       "        vertical-align: top;\n",
       "    }\n",
       "\n",
       "    .dataframe thead th {\n",
       "        text-align: right;\n",
       "    }\n",
       "</style>\n",
       "<table border=\"1\" class=\"dataframe\">\n",
       "  <thead>\n",
       "    <tr style=\"text-align: right;\">\n",
       "      <th></th>\n",
       "      <th>mean_fit_time</th>\n",
       "      <th>mean_score_time</th>\n",
       "      <th>mean_test_score</th>\n",
       "    </tr>\n",
       "  </thead>\n",
       "  <tbody>\n",
       "    <tr>\n",
       "      <th>1</th>\n",
       "      <td>0.004048</td>\n",
       "      <td>0.006924</td>\n",
       "      <td>0.992959</td>\n",
       "    </tr>\n",
       "    <tr>\n",
       "      <th>3</th>\n",
       "      <td>0.003930</td>\n",
       "      <td>0.006922</td>\n",
       "      <td>0.993741</td>\n",
       "    </tr>\n",
       "    <tr>\n",
       "      <th>5</th>\n",
       "      <td>0.003559</td>\n",
       "      <td>0.006900</td>\n",
       "      <td>0.991916</td>\n",
       "    </tr>\n",
       "    <tr>\n",
       "      <th>7</th>\n",
       "      <td>0.003545</td>\n",
       "      <td>0.007040</td>\n",
       "      <td>0.991653</td>\n",
       "    </tr>\n",
       "    <tr>\n",
       "      <th>9</th>\n",
       "      <td>0.003885</td>\n",
       "      <td>0.007637</td>\n",
       "      <td>0.989827</td>\n",
       "    </tr>\n",
       "    <tr>\n",
       "      <th>11</th>\n",
       "      <td>0.003626</td>\n",
       "      <td>0.007303</td>\n",
       "      <td>0.990611</td>\n",
       "    </tr>\n",
       "    <tr>\n",
       "      <th>13</th>\n",
       "      <td>0.003705</td>\n",
       "      <td>0.007591</td>\n",
       "      <td>0.989566</td>\n",
       "    </tr>\n",
       "    <tr>\n",
       "      <th>15</th>\n",
       "      <td>0.003870</td>\n",
       "      <td>0.007773</td>\n",
       "      <td>0.988000</td>\n",
       "    </tr>\n",
       "    <tr>\n",
       "      <th>17</th>\n",
       "      <td>0.003580</td>\n",
       "      <td>0.007509</td>\n",
       "      <td>0.987480</td>\n",
       "    </tr>\n",
       "    <tr>\n",
       "      <th>19</th>\n",
       "      <td>0.003679</td>\n",
       "      <td>0.007701</td>\n",
       "      <td>0.985393</td>\n",
       "    </tr>\n",
       "    <tr>\n",
       "      <th>21</th>\n",
       "      <td>0.003588</td>\n",
       "      <td>0.007633</td>\n",
       "      <td>0.985132</td>\n",
       "    </tr>\n",
       "    <tr>\n",
       "      <th>23</th>\n",
       "      <td>0.003608</td>\n",
       "      <td>0.007718</td>\n",
       "      <td>0.984088</td>\n",
       "    </tr>\n",
       "    <tr>\n",
       "      <th>25</th>\n",
       "      <td>0.003573</td>\n",
       "      <td>0.007795</td>\n",
       "      <td>0.984610</td>\n",
       "    </tr>\n",
       "    <tr>\n",
       "      <th>27</th>\n",
       "      <td>0.003600</td>\n",
       "      <td>0.007876</td>\n",
       "      <td>0.982785</td>\n",
       "    </tr>\n",
       "    <tr>\n",
       "      <th>29</th>\n",
       "      <td>0.003591</td>\n",
       "      <td>0.007965</td>\n",
       "      <td>0.982526</td>\n",
       "    </tr>\n",
       "  </tbody>\n",
       "</table>\n",
       "</div>"
      ],
      "text/plain": [
       "    mean_fit_time  mean_score_time  mean_test_score\n",
       "1        0.004048         0.006924         0.992959\n",
       "3        0.003930         0.006922         0.993741\n",
       "5        0.003559         0.006900         0.991916\n",
       "7        0.003545         0.007040         0.991653\n",
       "9        0.003885         0.007637         0.989827\n",
       "11       0.003626         0.007303         0.990611\n",
       "13       0.003705         0.007591         0.989566\n",
       "15       0.003870         0.007773         0.988000\n",
       "17       0.003580         0.007509         0.987480\n",
       "19       0.003679         0.007701         0.985393\n",
       "21       0.003588         0.007633         0.985132\n",
       "23       0.003608         0.007718         0.984088\n",
       "25       0.003573         0.007795         0.984610\n",
       "27       0.003600         0.007876         0.982785\n",
       "29       0.003591         0.007965         0.982526"
      ]
     },
     "execution_count": 169,
     "metadata": {},
     "output_type": "execute_result"
    }
   ],
   "source": [
    "eval"
   ]
  },
  {
   "cell_type": "markdown",
   "metadata": {},
   "source": [
    "Hasil yang diperoleh diatas menunjukkan bahwa hasil evaluasi model menggunakan 10-Fold Cross Validation dengan K=3 untuk K-Nearest Neighbors memberikan nilai rata2 hasil evaluasi yang lebih tinggi jika dibandingkan dengan nilai K lainnya. "
   ]
  },
  {
   "cell_type": "code",
   "execution_count": 170,
   "metadata": {},
   "outputs": [],
   "source": [
    "classifier = KNeighborsClassifier(n_neighbors=3)\n",
    "classifier.fit(X_train, y_train)\n",
    "y_pred = classifier.predict(X_test)"
   ]
  },
  {
   "cell_type": "code",
   "execution_count": 171,
   "metadata": {},
   "outputs": [
    {
     "name": "stdout",
     "output_type": "stream",
     "text": [
      "                 precision    recall  f1-score   support\n",
      "\n",
      " Sesar Lawanopo     1.0000    1.0000    1.0000        31\n",
      "   Sesar Matano     0.9957    0.9913    0.9935       231\n",
      "Sesar Palu Koro     0.9875    0.9968    0.9921       316\n",
      "  Sesar Saddang     1.0000    0.9846    0.9922       195\n",
      "  Sesar Walanae     0.9800    1.0000    0.9899        49\n",
      "\n",
      "       accuracy                         0.9927       822\n",
      "      macro avg     0.9926    0.9946    0.9936       822\n",
      "   weighted avg     0.9928    0.9927    0.9927       822\n",
      "\n"
     ]
    }
   ],
   "source": [
    "#Classification Report\n",
    "print(classification_report(y_test, y_pred, target_names=['Sesar Lawanopo', 'Sesar Matano', 'Sesar Palu Koro', 'Sesar Saddang', 'Sesar Walanae'], digits=4))"
   ]
  },
  {
   "cell_type": "code",
   "execution_count": 177,
   "metadata": {},
   "outputs": [
    {
     "data": {
      "image/png": "[encoded data removed]",
      "text/plain": [
       "<Figure size 720x648 with 2 Axes>"
      ]
     },
     "metadata": {},
     "output_type": "display_data"
    }
   ],
   "source": [
    "cm = confusion_matrix(y_test, y_pred)\n",
    "ax = sns.heatmap(cm, annot=True, fmt='g');\n",
    "ax.set_title('Confusion Matrix');\n",
    "ax.set_xlabel('Predicted Data')\n",
    "ax.set_ylabel('Actual Data');\n",
    "ax.xaxis.set_ticklabels(['Lawanopo', 'Matano', 'Palu Koro', 'Saddang', 'Walanae'])\n",
    "ax.yaxis.set_ticklabels(['Lawanopo', 'Matano', 'Palu Koro', 'Saddang', 'Walanae'])\n",
    "sns.set(rc={'figure.figsize':(9,9)})\n",
    "plt.show()"
   ]
  },
  {
   "cell_type": "code",
   "execution_count": 180,
   "metadata": {},
   "outputs": [
    {
     "data": {
      "text/html": [
       "<div>\n",
       "<style scoped>\n",
       "    .dataframe tbody tr th:only-of-type {\n",
       "        vertical-align: middle;\n",
       "    }\n",
       "\n",
       "    .dataframe tbody tr th {\n",
       "        vertical-align: top;\n",
       "    }\n",
       "\n",
       "    .dataframe thead th {\n",
       "        text-align: right;\n",
       "    }\n",
       "</style>\n",
       "<table border=\"1\" class=\"dataframe\">\n",
       "  <thead>\n",
       "    <tr style=\"text-align: right;\">\n",
       "      <th></th>\n",
       "      <th>Date</th>\n",
       "      <th>Mag</th>\n",
       "      <th>Lattitude</th>\n",
       "      <th>Longitude</th>\n",
       "      <th>Depth</th>\n",
       "      <th>KETERANGAN_LOKASI</th>\n",
       "      <th>Patahan</th>\n",
       "    </tr>\n",
       "  </thead>\n",
       "  <tbody>\n",
       "    <tr>\n",
       "      <th>0</th>\n",
       "      <td>16-01-2020</td>\n",
       "      <td>4.2</td>\n",
       "      <td>-5.72</td>\n",
       "      <td>120.63</td>\n",
       "      <td>10</td>\n",
       "      <td>51 km TimurLaut Selayar</td>\n",
       "      <td>Patahan Walanae</td>\n",
       "    </tr>\n",
       "    <tr>\n",
       "      <th>1</th>\n",
       "      <td>16-01-2020</td>\n",
       "      <td>2.3</td>\n",
       "      <td>-2.82</td>\n",
       "      <td>119.42</td>\n",
       "      <td>10</td>\n",
       "      <td>19 km TimurLaut Mamasa</td>\n",
       "      <td>Patahan Saddang</td>\n",
       "    </tr>\n",
       "    <tr>\n",
       "      <th>2</th>\n",
       "      <td>17-01-2020</td>\n",
       "      <td>3.2</td>\n",
       "      <td>-5.68</td>\n",
       "      <td>120.68</td>\n",
       "      <td>10</td>\n",
       "      <td>55 km Tenggara Bulukumba</td>\n",
       "      <td>Patahan Walanae</td>\n",
       "    </tr>\n",
       "    <tr>\n",
       "      <th>3</th>\n",
       "      <td>17-01-2020</td>\n",
       "      <td>3.1</td>\n",
       "      <td>-2.84</td>\n",
       "      <td>119.43</td>\n",
       "      <td>10</td>\n",
       "      <td>18 km TimurLaut Mamasa</td>\n",
       "      <td>Patahan Saddang</td>\n",
       "    </tr>\n",
       "    <tr>\n",
       "      <th>4</th>\n",
       "      <td>17-01-2020</td>\n",
       "      <td>2.8</td>\n",
       "      <td>-1.71</td>\n",
       "      <td>119.97</td>\n",
       "      <td>60</td>\n",
       "      <td>30 km BaratDaya Kulawi</td>\n",
       "      <td>Patahan Palu Koro</td>\n",
       "    </tr>\n",
       "    <tr>\n",
       "      <th>...</th>\n",
       "      <td>...</td>\n",
       "      <td>...</td>\n",
       "      <td>...</td>\n",
       "      <td>...</td>\n",
       "      <td>...</td>\n",
       "      <td>...</td>\n",
       "      <td>...</td>\n",
       "    </tr>\n",
       "    <tr>\n",
       "      <th>817</th>\n",
       "      <td>29-12-2020</td>\n",
       "      <td>3.0</td>\n",
       "      <td>-2.51</td>\n",
       "      <td>120.71</td>\n",
       "      <td>10</td>\n",
       "      <td>20 km Tenggara Mangkutana</td>\n",
       "      <td>Patahan Matano</td>\n",
       "    </tr>\n",
       "    <tr>\n",
       "      <th>818</th>\n",
       "      <td>30-12-2020</td>\n",
       "      <td>2.5</td>\n",
       "      <td>-2.17</td>\n",
       "      <td>121.20</td>\n",
       "      <td>10</td>\n",
       "      <td>17 km BaratLaut Lembo</td>\n",
       "      <td>Patahan Matano</td>\n",
       "    </tr>\n",
       "    <tr>\n",
       "      <th>819</th>\n",
       "      <td>30-12-2020</td>\n",
       "      <td>3.3</td>\n",
       "      <td>-1.37</td>\n",
       "      <td>120.47</td>\n",
       "      <td>10</td>\n",
       "      <td>55 km TimurLaut Kulawi</td>\n",
       "      <td>Patahan Palu Koro</td>\n",
       "    </tr>\n",
       "    <tr>\n",
       "      <th>820</th>\n",
       "      <td>30-12-2020</td>\n",
       "      <td>2.9</td>\n",
       "      <td>-1.36</td>\n",
       "      <td>119.64</td>\n",
       "      <td>10</td>\n",
       "      <td>36 km BaratDaya Sigi</td>\n",
       "      <td>Patahan Palu Koro</td>\n",
       "    </tr>\n",
       "    <tr>\n",
       "      <th>821</th>\n",
       "      <td>31-12-2020</td>\n",
       "      <td>3.1</td>\n",
       "      <td>-1.23</td>\n",
       "      <td>120.96</td>\n",
       "      <td>10</td>\n",
       "      <td>111 km TimurLaut Kulawi</td>\n",
       "      <td>Patahan Palu Koro</td>\n",
       "    </tr>\n",
       "  </tbody>\n",
       "</table>\n",
       "<p>822 rows × 7 columns</p>\n",
       "</div>"
      ],
      "text/plain": [
       "           Date  Mag  Lattitude  Longitude  Depth          KETERANGAN_LOKASI  \\\n",
       "0    16-01-2020  4.2      -5.72     120.63     10    51 km TimurLaut Selayar   \n",
       "1    16-01-2020  2.3      -2.82     119.42     10     19 km TimurLaut Mamasa   \n",
       "2    17-01-2020  3.2      -5.68     120.68     10   55 km Tenggara Bulukumba   \n",
       "3    17-01-2020  3.1      -2.84     119.43     10     18 km TimurLaut Mamasa   \n",
       "4    17-01-2020  2.8      -1.71     119.97     60     30 km BaratDaya Kulawi   \n",
       "..          ...  ...        ...        ...    ...                        ...   \n",
       "817  29-12-2020  3.0      -2.51     120.71     10  20 km Tenggara Mangkutana   \n",
       "818  30-12-2020  2.5      -2.17     121.20     10      17 km BaratLaut Lembo   \n",
       "819  30-12-2020  3.3      -1.37     120.47     10     55 km TimurLaut Kulawi   \n",
       "820  30-12-2020  2.9      -1.36     119.64     10       36 km BaratDaya Sigi   \n",
       "821  31-12-2020  3.1      -1.23     120.96     10    111 km TimurLaut Kulawi   \n",
       "\n",
       "               Patahan  \n",
       "0      Patahan Walanae  \n",
       "1      Patahan Saddang  \n",
       "2      Patahan Walanae  \n",
       "3      Patahan Saddang  \n",
       "4    Patahan Palu Koro  \n",
       "..                 ...  \n",
       "817     Patahan Matano  \n",
       "818     Patahan Matano  \n",
       "819  Patahan Palu Koro  \n",
       "820  Patahan Palu Koro  \n",
       "821  Patahan Palu Koro  \n",
       "\n",
       "[822 rows x 7 columns]"
      ]
     },
     "execution_count": 180,
     "metadata": {},
     "output_type": "execute_result"
    }
   ],
   "source": [
    "df_test"
   ]
  },
  {
   "cell_type": "code",
   "execution_count": 181,
   "metadata": {},
   "outputs": [
    {
     "data": {
      "text/html": [
       "<div>\n",
       "<style scoped>\n",
       "    .dataframe tbody tr th:only-of-type {\n",
       "        vertical-align: middle;\n",
       "    }\n",
       "\n",
       "    .dataframe tbody tr th {\n",
       "        vertical-align: top;\n",
       "    }\n",
       "\n",
       "    .dataframe thead th {\n",
       "        text-align: right;\n",
       "    }\n",
       "</style>\n",
       "<table border=\"1\" class=\"dataframe\">\n",
       "  <thead>\n",
       "    <tr style=\"text-align: right;\">\n",
       "      <th></th>\n",
       "      <th>Date</th>\n",
       "      <th>Mag</th>\n",
       "      <th>Lattitude</th>\n",
       "      <th>Longitude</th>\n",
       "      <th>Depth</th>\n",
       "      <th>KETERANGAN_LOKASI</th>\n",
       "      <th>Patahan</th>\n",
       "      <th>Jenis Gempa</th>\n",
       "      <th>Jenis Kedalaman</th>\n",
       "    </tr>\n",
       "  </thead>\n",
       "  <tbody>\n",
       "    <tr>\n",
       "      <th>0</th>\n",
       "      <td>2015-01-01</td>\n",
       "      <td>3.4</td>\n",
       "      <td>-1.99</td>\n",
       "      <td>120.41</td>\n",
       "      <td>17</td>\n",
       "      <td>47 km BaratLaut Mangkutana</td>\n",
       "      <td>Patahan Matano</td>\n",
       "      <td>Gempa Sedang</td>\n",
       "      <td>Gempa Dangkal</td>\n",
       "    </tr>\n",
       "    <tr>\n",
       "      <th>1</th>\n",
       "      <td>2015-01-01</td>\n",
       "      <td>3.3</td>\n",
       "      <td>-1.88</td>\n",
       "      <td>120.30</td>\n",
       "      <td>24</td>\n",
       "      <td>60 km Tenggara Kulawi</td>\n",
       "      <td>Patahan Palu Koro</td>\n",
       "      <td>Gempa Sedang</td>\n",
       "      <td>Gempa Dangkal</td>\n",
       "    </tr>\n",
       "    <tr>\n",
       "      <th>2</th>\n",
       "      <td>2015-02-01</td>\n",
       "      <td>4.8</td>\n",
       "      <td>-2.22</td>\n",
       "      <td>120.87</td>\n",
       "      <td>17</td>\n",
       "      <td>34 km TimurLaut Mangkutana</td>\n",
       "      <td>Patahan Matano</td>\n",
       "      <td>Gempa Sedang</td>\n",
       "      <td>Gempa Dangkal</td>\n",
       "    </tr>\n",
       "    <tr>\n",
       "      <th>3</th>\n",
       "      <td>2015-02-01</td>\n",
       "      <td>4.5</td>\n",
       "      <td>-2.21</td>\n",
       "      <td>120.87</td>\n",
       "      <td>12</td>\n",
       "      <td>35 km TimurLaut Mangkutana</td>\n",
       "      <td>Patahan Matano</td>\n",
       "      <td>Gempa Sedang</td>\n",
       "      <td>Gempa Dangkal</td>\n",
       "    </tr>\n",
       "    <tr>\n",
       "      <th>4</th>\n",
       "      <td>2015-02-01</td>\n",
       "      <td>4.1</td>\n",
       "      <td>-2.17</td>\n",
       "      <td>120.77</td>\n",
       "      <td>10</td>\n",
       "      <td>29 km TimurLaut Mangkutana</td>\n",
       "      <td>Patahan Matano</td>\n",
       "      <td>Gempa Sedang</td>\n",
       "      <td>Gempa Dangkal</td>\n",
       "    </tr>\n",
       "    <tr>\n",
       "      <th>...</th>\n",
       "      <td>...</td>\n",
       "      <td>...</td>\n",
       "      <td>...</td>\n",
       "      <td>...</td>\n",
       "      <td>...</td>\n",
       "      <td>...</td>\n",
       "      <td>...</td>\n",
       "      <td>...</td>\n",
       "      <td>...</td>\n",
       "    </tr>\n",
       "    <tr>\n",
       "      <th>3830</th>\n",
       "      <td>2019-12-30</td>\n",
       "      <td>2.4</td>\n",
       "      <td>-2.86</td>\n",
       "      <td>119.52</td>\n",
       "      <td>11</td>\n",
       "      <td>18 km TimurLaut Pana</td>\n",
       "      <td>Patahan Saddang</td>\n",
       "      <td>Gempa Kecil</td>\n",
       "      <td>Gempa Dangkal</td>\n",
       "    </tr>\n",
       "    <tr>\n",
       "      <th>3831</th>\n",
       "      <td>2019-12-30</td>\n",
       "      <td>2.3</td>\n",
       "      <td>-2.85</td>\n",
       "      <td>119.48</td>\n",
       "      <td>10</td>\n",
       "      <td>19 km BaratLaut Pana</td>\n",
       "      <td>Patahan Saddang</td>\n",
       "      <td>Gempa Kecil</td>\n",
       "      <td>Gempa Dangkal</td>\n",
       "    </tr>\n",
       "    <tr>\n",
       "      <th>3832</th>\n",
       "      <td>2019-12-30</td>\n",
       "      <td>3.3</td>\n",
       "      <td>-1.50</td>\n",
       "      <td>120.07</td>\n",
       "      <td>10</td>\n",
       "      <td>11 km Tenggara Kulawi</td>\n",
       "      <td>Patahan Palu Koro</td>\n",
       "      <td>Gempa Sedang</td>\n",
       "      <td>Gempa Dangkal</td>\n",
       "    </tr>\n",
       "    <tr>\n",
       "      <th>3833</th>\n",
       "      <td>2019-12-31</td>\n",
       "      <td>3.2</td>\n",
       "      <td>-2.37</td>\n",
       "      <td>121.40</td>\n",
       "      <td>10</td>\n",
       "      <td>15 km Tenggara Lembo</td>\n",
       "      <td>Patahan Matano</td>\n",
       "      <td>Gempa Sedang</td>\n",
       "      <td>Gempa Dangkal</td>\n",
       "    </tr>\n",
       "    <tr>\n",
       "      <th>3834</th>\n",
       "      <td>2019-12-31</td>\n",
       "      <td>3.2</td>\n",
       "      <td>-2.34</td>\n",
       "      <td>121.19</td>\n",
       "      <td>10</td>\n",
       "      <td>17 km BaratDaya Lembo</td>\n",
       "      <td>Patahan Matano</td>\n",
       "      <td>Gempa Sedang</td>\n",
       "      <td>Gempa Dangkal</td>\n",
       "    </tr>\n",
       "  </tbody>\n",
       "</table>\n",
       "<p>3832 rows × 9 columns</p>\n",
       "</div>"
      ],
      "text/plain": [
       "           Date  Mag  Lattitude  Longitude  Depth           KETERANGAN_LOKASI  \\\n",
       "0    2015-01-01  3.4      -1.99     120.41     17  47 km BaratLaut Mangkutana   \n",
       "1    2015-01-01  3.3      -1.88     120.30     24       60 km Tenggara Kulawi   \n",
       "2    2015-02-01  4.8      -2.22     120.87     17  34 km TimurLaut Mangkutana   \n",
       "3    2015-02-01  4.5      -2.21     120.87     12  35 km TimurLaut Mangkutana   \n",
       "4    2015-02-01  4.1      -2.17     120.77     10  29 km TimurLaut Mangkutana   \n",
       "...         ...  ...        ...        ...    ...                         ...   \n",
       "3830 2019-12-30  2.4      -2.86     119.52     11        18 km TimurLaut Pana   \n",
       "3831 2019-12-30  2.3      -2.85     119.48     10        19 km BaratLaut Pana   \n",
       "3832 2019-12-30  3.3      -1.50     120.07     10       11 km Tenggara Kulawi   \n",
       "3833 2019-12-31  3.2      -2.37     121.40     10        15 km Tenggara Lembo   \n",
       "3834 2019-12-31  3.2      -2.34     121.19     10       17 km BaratDaya Lembo   \n",
       "\n",
       "                Patahan   Jenis Gempa Jenis Kedalaman  \n",
       "0        Patahan Matano  Gempa Sedang   Gempa Dangkal  \n",
       "1     Patahan Palu Koro  Gempa Sedang   Gempa Dangkal  \n",
       "2        Patahan Matano  Gempa Sedang   Gempa Dangkal  \n",
       "3        Patahan Matano  Gempa Sedang   Gempa Dangkal  \n",
       "4        Patahan Matano  Gempa Sedang   Gempa Dangkal  \n",
       "...                 ...           ...             ...  \n",
       "3830    Patahan Saddang   Gempa Kecil   Gempa Dangkal  \n",
       "3831    Patahan Saddang   Gempa Kecil   Gempa Dangkal  \n",
       "3832  Patahan Palu Koro  Gempa Sedang   Gempa Dangkal  \n",
       "3833     Patahan Matano  Gempa Sedang   Gempa Dangkal  \n",
       "3834     Patahan Matano  Gempa Sedang   Gempa Dangkal  \n",
       "\n",
       "[3832 rows x 9 columns]"
      ]
     },
     "execution_count": 181,
     "metadata": {},
     "output_type": "execute_result"
    }
   ],
   "source": [
    "df"
   ]
  },
  {
   "cell_type": "code",
   "execution_count": null,
   "metadata": {},
   "outputs": [],
   "source": []
  }
 ],
 "metadata": {
  "kernelspec": {
   "display_name": "Python 3.9.12 ('base')",
   "language": "python",
   "name": "python3"
  },
  "language_info": {
   "codemirror_mode": {
    "name": "ipython",
    "version": 3
   },
   "file_extension": ".py",
   "mimetype": "text/x-python",
   "name": "python",
   "nbconvert_exporter": "python",
   "pygments_lexer": "ipython3",
   "version": "3.9.12"
  },
  "orig_nbformat": 4,
  "vscode": {
   "interpreter": {
    "hash": "ac95b15931ba057ad56e18fd6110eac0125694fb6a6965bf24016073252dc21c"
   }
  }
 },
 "nbformat": 4,
 "nbformat_minor": 2
}
